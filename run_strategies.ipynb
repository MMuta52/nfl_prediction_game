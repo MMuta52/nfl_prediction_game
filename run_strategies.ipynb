{
 "cells": [
  {
   "cell_type": "code",
   "execution_count": 1,
   "metadata": {},
   "outputs": [],
   "source": [
    "import util\n",
    "import pandas as pd\n",
    "import plotly.express as px\n",
    "\n",
    "# Suppress pandas FutureWarnings\n",
    "import warnings\n",
    "warnings.simplefilter(action='ignore', category=FutureWarning)\n",
    "\n",
    "from IPython.display import clear_output\n",
    "\n",
    "pd.set_option('display.max_columns', 500)\n",
    "%load_ext autoreload\n",
    "%autoreload 2"
   ]
  },
  {
   "cell_type": "code",
   "execution_count": 2,
   "metadata": {},
   "outputs": [],
   "source": [
    "years = [i for i in range(2010,2022)]\n",
    "schedule_df = util.load_data(years)"
   ]
  },
  {
   "cell_type": "code",
   "execution_count": 3,
   "metadata": {},
   "outputs": [],
   "source": [
    "def get_team1_wp(team1_moneyline, team2_moneyline):\n",
    "  team1_wp = util.odds_to_implied_prob(team1_moneyline)\n",
    "  team2_wp = util.odds_to_implied_prob(team2_moneyline)\n",
    "  return team1_wp / (team1_wp+team2_wp)\n",
    "\n",
    "schedule_df['vegas_team1_wp'] = schedule_df.apply(lambda x: get_team1_wp(x.team1_moneyline, x.team2_moneyline),axis=1)\n"
   ]
  },
  {
   "cell_type": "code",
   "execution_count": 4,
   "metadata": {},
   "outputs": [
    {
     "name": "stdout",
     "output_type": "stream",
     "text": [
      "Vegas scores: season\n",
      "2017    1191.43\n",
      "2018    1076.41\n",
      "2019    1099.27\n",
      "2020    1361.45\n",
      "2021     902.90\n",
      "Name: score, dtype: float64\n",
      "Grier scores: season\n",
      "2017    0.203066\n",
      "2018    0.210859\n",
      "2019    0.213342\n",
      "2020    0.201239\n",
      "2021    0.217129\n",
      "Name: grier_score, dtype: float64\n"
     ]
    }
   ],
   "source": [
    "vegas = schedule_df.copy()\n",
    "vegas['score'] = util.score_df(vegas, 'vegas_team1_wp')\n",
    "print('Vegas scores:', vegas.groupby('season')['score'].sum().tail(5))\n",
    "\n",
    "vegas['grier_score'] = util.grier_score(vegas, 'vegas_team1_wp')\n",
    "print('Grier scores:', vegas.groupby('season')['grier_score'].mean().tail(5))\n"
   ]
  },
  {
   "cell_type": "code",
   "execution_count": 5,
   "metadata": {},
   "outputs": [
    {
     "name": "stdout",
     "output_type": "stream",
     "text": [
      "Base Elo scores: season\n",
      "2017    929.66\n",
      "2018    753.06\n",
      "2019    755.23\n",
      "2020    876.00\n",
      "2021    375.84\n",
      "Name: score, dtype: float64\n",
      "Grier scores: season\n",
      "2017    0.217295\n",
      "2018    0.221458\n",
      "2019    0.223929\n",
      "2020    0.218425\n",
      "2021    0.234640\n",
      "Name: grier_score, dtype: float64\n",
      "\n",
      "Betting performance: season\n",
      "2017   -18.045205\n",
      "2018    -0.858677\n",
      "2019   -26.941771\n",
      "2020   -31.205604\n",
      "2021   -17.253747\n",
      "Name: bet_payout, dtype: float64\n"
     ]
    }
   ],
   "source": [
    "from strategy.FiveThirtyEightBaseStrategy import FiveThirtyEightBaseStrategy\n",
    "base_strategy = FiveThirtyEightBaseStrategy(seasons=years)\n",
    "base_df = base_strategy.prepare_data()\n",
    "base_pred = base_strategy.simulate(base_df)\n",
    "base_pred['score'] = util.score_df(base_pred, 'base538_pred1')\n",
    "print('Base Elo scores:', base_pred.groupby('season')['score'].sum().tail(5))\n",
    "\n",
    "base_pred['grier_score'] = util.grier_score(base_pred, 'base538_pred1')\n",
    "print('Grier scores:', base_pred.groupby('season')['grier_score'].mean().tail(5))\n",
    "\n",
    "base_pred['bet_payout'] = util.bet_df(base_pred, 'base538_pred1', buffer=0.01)\n",
    "print('\\nBetting performance:', base_pred.groupby('season')['bet_payout'].sum().tail(5))\n"
   ]
  },
  {
   "cell_type": "code",
   "execution_count": 6,
   "metadata": {},
   "outputs": [
    {
     "name": "stdout",
     "output_type": "stream",
     "text": [
      "Downcasting floats.\n",
      "Adjusted Elo scores: season\n",
      "2017     820.63\n",
      "2018     713.57\n",
      "2019     733.78\n",
      "2020    1004.70\n",
      "2021     240.76\n",
      "Name: score, dtype: float64\n",
      "\n",
      "Grier scores: season\n",
      "2017    0.216393\n",
      "2018    0.222717\n",
      "2019    0.223935\n",
      "2020    0.214106\n",
      "2021    0.234664\n",
      "Name: grier_score, dtype: float64\n",
      "\n",
      "Betting performance: season\n",
      "2017   -25.251452\n",
      "2018    -7.991895\n",
      "2019    -8.521488\n",
      "2020   -21.497361\n",
      "2021    -5.417829\n",
      "Name: bet_payout, dtype: float64\n"
     ]
    }
   ],
   "source": [
    "from strategy.FiveThirtyEightAdjustedStrategy import FiveThirtyEightAdjustedStrategy\n",
    "adj_strategy = FiveThirtyEightAdjustedStrategy(seasons=years)\n",
    "adj_df = adj_strategy.prepare_data()\n",
    "adj_pred = adj_strategy.simulate(adj_df)\n",
    "adj_pred['score'] = util.score_df(adj_pred, 'adj538_pred1')\n",
    "print('Adjusted Elo scores:', adj_pred.groupby('season')['score'].sum().tail(5))\n",
    "\n",
    "adj_pred['grier_score'] = util.grier_score(adj_pred, 'adj538_pred1')\n",
    "print('\\nGrier scores:', adj_pred.groupby('season')['grier_score'].mean().tail(5))\n",
    "\n",
    "adj_pred['bet_payout'] = util.bet_df(adj_pred, 'adj538_pred1', buffer=0.01)\n",
    "print('\\nBetting performance:', adj_pred.groupby('season')['bet_payout'].sum().tail(5))\n"
   ]
  },
  {
   "cell_type": "code",
   "execution_count": 7,
   "metadata": {},
   "outputs": [
    {
     "name": "stdout",
     "output_type": "stream",
     "text": [
      "\n",
      "Sandbox scores: season\n",
      "2017    927.60\n",
      "2018    758.04\n",
      "2019    758.25\n",
      "2020    879.40\n",
      "2021    403.42\n",
      "Name: score, dtype: float64\n",
      "\n",
      "Grier scores: season\n",
      "2017    0.217298\n",
      "2018    0.221373\n",
      "2019    0.223891\n",
      "2020    0.218402\n",
      "2021    0.234418\n",
      "Name: grier_score, dtype: float64\n",
      "\n",
      "Betting performance: season\n",
      "2017   -14.195205\n",
      "2018    -0.858677\n",
      "2019   -26.941771\n",
      "2020   -31.205604\n",
      "2021   -13.029917\n",
      "Name: bet_payout, dtype: float64\n"
     ]
    }
   ],
   "source": [
    "from strategy.FiveThirtyEightCSVStrategy import FiveThirtyEightCSVStrategy\n",
    "prod_strategy = FiveThirtyEightCSVStrategy(seasons=years)\n",
    "prod_df = prod_strategy.prepare_data()\n",
    "prod_pred = prod_strategy.simulate(prod_df)\n",
    "clear_output(wait=True)\n",
    "prod_pred['score'] = util.score_df(prod_pred, 'csv538_pred1')\n",
    "print('\\nSandbox scores:', prod_pred.groupby('season')['score'].sum().tail(5))\n",
    "\n",
    "prod_pred['grier_score'] = util.grier_score(prod_pred, 'csv538_pred1')\n",
    "print('\\nGrier scores:', prod_pred.groupby('season')['grier_score'].mean().tail(5))\n",
    "\n",
    "prod_pred['bet_payout'] = util.bet_df(prod_pred, 'csv538_pred1', buffer=0.01)\n",
    "print('\\nBetting performance:', prod_pred.groupby('season')['bet_payout'].sum().tail(5))\n"
   ]
  },
  {
   "cell_type": "code",
   "execution_count": 8,
   "metadata": {},
   "outputs": [
    {
     "name": "stdout",
     "output_type": "stream",
     "text": [
      "\n",
      "EPA scores: season\n",
      "2017     847.41\n",
      "2018     876.59\n",
      "2019     695.94\n",
      "2020    1039.97\n",
      "2021     364.78\n",
      "Name: score, dtype: float64\n",
      "\n",
      "Grier scores: season\n",
      "2017    0.216460\n",
      "2018    0.219060\n",
      "2019    0.225858\n",
      "2020    0.212464\n",
      "2021    0.233054\n",
      "Name: grier_score, dtype: float64\n",
      "\n",
      "Betting performance: season\n",
      "2017   -11.416562\n",
      "2018     3.563569\n",
      "2019   -11.229906\n",
      "2020   -10.272224\n",
      "2021     2.276090\n",
      "Name: bet_payout, dtype: float64\n"
     ]
    }
   ],
   "source": [
    "from strategy.BestStrategy import BestStrategy\n",
    "best_strategy = BestStrategy(seasons=years)\n",
    "best_df = best_strategy.prepare_data()\n",
    "best_pred = best_strategy.simulate(best_df)\n",
    "clear_output(wait=True)\n",
    "best_pred['score'] = util.score_df(best_pred, 'best_pred1')\n",
    "print('\\nEPA scores:', best_pred.groupby('season')['score'].sum().tail(5))\n",
    "\n",
    "best_pred['grier_score'] = util.grier_score(best_pred, 'best_pred1')\n",
    "print('\\nGrier scores:', best_pred.groupby('season')['grier_score'].mean().tail(5))\n",
    "\n",
    "best_pred['bet_payout'] = util.bet_df(best_pred, 'best_pred1', buffer=0.01)\n",
    "print('\\nBetting performance:', best_pred.groupby('season')['bet_payout'].sum().tail(5))\n"
   ]
  },
  {
   "cell_type": "code",
   "execution_count": 9,
   "metadata": {},
   "outputs": [
    {
     "name": "stdout",
     "output_type": "stream",
     "text": [
      "\n",
      "Sandbox scores: season\n",
      "2017     847.41\n",
      "2018     876.59\n",
      "2019     695.94\n",
      "2020    1039.97\n",
      "2021     364.78\n",
      "Name: score, dtype: float64\n",
      "\n",
      "Grier scores: season\n",
      "2017    0.216460\n",
      "2018    0.219060\n",
      "2019    0.225858\n",
      "2020    0.212464\n",
      "2021    0.233054\n",
      "Name: grier_score, dtype: float64\n",
      "\n",
      "Betting performance: season\n",
      "2017   -11.416562\n",
      "2018     3.563569\n",
      "2019   -11.229906\n",
      "2020   -10.272224\n",
      "2021     2.276090\n",
      "Name: bet_payout, dtype: float64\n"
     ]
    }
   ],
   "source": [
    "from strategy.SandboxStrategy import SandboxStrategy\n",
    "sand_strategy = SandboxStrategy(seasons=years)\n",
    "sand_df = sand_strategy.prepare_data()\n",
    "sand_pred = sand_strategy.simulate(sand_df)\n",
    "clear_output(wait=True)\n",
    "sand_pred['score'] = util.score_df(sand_pred, 'sandbox_pred1')\n",
    "print('\\nSandbox scores:', sand_pred.groupby('season')['score'].sum().tail(5))\n",
    "\n",
    "sand_pred['grier_score'] = util.grier_score(sand_pred, 'sandbox_pred1')\n",
    "print('\\nGrier scores:', sand_pred.groupby('season')['grier_score'].mean().tail(5))\n",
    "\n",
    "sand_pred['bet_payout'] = util.bet_df(sand_pred, 'sandbox_pred1', buffer=0.01)\n",
    "print('\\nBetting performance:', sand_pred.groupby('season')['bet_payout'].sum().tail(5))\n"
   ]
  },
  {
   "cell_type": "code",
   "execution_count": 10,
   "metadata": {},
   "outputs": [
    {
     "data": {
      "application/vnd.plotly.v1+json": {
       "config": {
        "plotlyServerURL": "https://plot.ly"
       },
       "data": [
        {
         "hovertemplate": "variable=538 Prod<br>season=%{x}<br>value=%{y}<extra></extra>",
         "legendgroup": "538 Prod",
         "line": {
          "color": "#636efa",
          "dash": "solid"
         },
         "marker": {
          "symbol": "circle"
         },
         "mode": "lines",
         "name": "538 Prod",
         "orientation": "v",
         "showlegend": true,
         "type": "scatter",
         "x": [
          2017,
          2018,
          2019,
          2020,
          2021
         ],
         "xaxis": "x",
         "y": [
          927.5999999999999,
          758.0399999999998,
          758.2499999999999,
          879.3999999999999,
          403.41999999999996
         ],
         "yaxis": "y"
        },
        {
         "hovertemplate": "variable=538 Base<br>season=%{x}<br>value=%{y}<extra></extra>",
         "legendgroup": "538 Base",
         "line": {
          "color": "#EF553B",
          "dash": "solid"
         },
         "marker": {
          "symbol": "circle"
         },
         "mode": "lines",
         "name": "538 Base",
         "orientation": "v",
         "showlegend": true,
         "type": "scatter",
         "x": [
          2017,
          2018,
          2019,
          2020,
          2021
         ],
         "xaxis": "x",
         "y": [
          929.6599999999999,
          753.0599999999998,
          755.2299999999999,
          875.9999999999999,
          375.8399999999999
         ],
         "yaxis": "y"
        },
        {
         "hovertemplate": "variable=538 Adjusted<br>season=%{x}<br>value=%{y}<extra></extra>",
         "legendgroup": "538 Adjusted",
         "line": {
          "color": "#00cc96",
          "dash": "solid"
         },
         "marker": {
          "symbol": "circle"
         },
         "mode": "lines",
         "name": "538 Adjusted",
         "orientation": "v",
         "showlegend": true,
         "type": "scatter",
         "x": [
          2017,
          2018,
          2019,
          2020,
          2021
         ],
         "xaxis": "x",
         "y": [
          820.6299999999998,
          713.5699999999999,
          733.78,
          1004.6999999999999,
          240.76000000000005
         ],
         "yaxis": "y"
        },
        {
         "hovertemplate": "variable=Sandbox<br>season=%{x}<br>value=%{y}<extra></extra>",
         "legendgroup": "Sandbox",
         "line": {
          "color": "#ab63fa",
          "dash": "solid"
         },
         "marker": {
          "symbol": "circle"
         },
         "mode": "lines",
         "name": "Sandbox",
         "orientation": "v",
         "showlegend": true,
         "type": "scatter",
         "x": [
          2017,
          2018,
          2019,
          2020,
          2021
         ],
         "xaxis": "x",
         "y": [
          847.41,
          876.5899999999999,
          695.9399999999999,
          1039.9699999999998,
          364.77999999999986
         ],
         "yaxis": "y"
        },
        {
         "hovertemplate": "variable=Best<br>season=%{x}<br>value=%{y}<extra></extra>",
         "legendgroup": "Best",
         "line": {
          "color": "#FFA15A",
          "dash": "solid"
         },
         "marker": {
          "symbol": "circle"
         },
         "mode": "lines",
         "name": "Best",
         "orientation": "v",
         "showlegend": true,
         "type": "scatter",
         "x": [
          2017,
          2018,
          2019,
          2020,
          2021
         ],
         "xaxis": "x",
         "y": [
          847.41,
          876.5899999999999,
          695.9399999999999,
          1039.9699999999998,
          364.77999999999986
         ],
         "yaxis": "y"
        },
        {
         "hovertemplate": "variable=Vegas<br>season=%{x}<br>value=%{y}<extra></extra>",
         "legendgroup": "Vegas",
         "line": {
          "color": "#19d3f3",
          "dash": "solid"
         },
         "marker": {
          "symbol": "circle"
         },
         "mode": "lines",
         "name": "Vegas",
         "orientation": "v",
         "showlegend": true,
         "type": "scatter",
         "x": [
          2017,
          2018,
          2019,
          2020,
          2021
         ],
         "xaxis": "x",
         "y": [
          1191.4299999999998,
          1076.4099999999999,
          1099.2699999999998,
          1361.4499999999998,
          902.9
         ],
         "yaxis": "y"
        }
       ],
       "layout": {
        "legend": {
         "title": {
          "text": "variable"
         },
         "tracegroupgap": 0
        },
        "template": {
         "data": {
          "bar": [
           {
            "error_x": {
             "color": "#2a3f5f"
            },
            "error_y": {
             "color": "#2a3f5f"
            },
            "marker": {
             "line": {
              "color": "#E5ECF6",
              "width": 0.5
             },
             "pattern": {
              "fillmode": "overlay",
              "size": 10,
              "solidity": 0.2
             }
            },
            "type": "bar"
           }
          ],
          "barpolar": [
           {
            "marker": {
             "line": {
              "color": "#E5ECF6",
              "width": 0.5
             },
             "pattern": {
              "fillmode": "overlay",
              "size": 10,
              "solidity": 0.2
             }
            },
            "type": "barpolar"
           }
          ],
          "carpet": [
           {
            "aaxis": {
             "endlinecolor": "#2a3f5f",
             "gridcolor": "white",
             "linecolor": "white",
             "minorgridcolor": "white",
             "startlinecolor": "#2a3f5f"
            },
            "baxis": {
             "endlinecolor": "#2a3f5f",
             "gridcolor": "white",
             "linecolor": "white",
             "minorgridcolor": "white",
             "startlinecolor": "#2a3f5f"
            },
            "type": "carpet"
           }
          ],
          "choropleth": [
           {
            "colorbar": {
             "outlinewidth": 0,
             "ticks": ""
            },
            "type": "choropleth"
           }
          ],
          "contour": [
           {
            "colorbar": {
             "outlinewidth": 0,
             "ticks": ""
            },
            "colorscale": [
             [
              0,
              "#0d0887"
             ],
             [
              0.1111111111111111,
              "#46039f"
             ],
             [
              0.2222222222222222,
              "#7201a8"
             ],
             [
              0.3333333333333333,
              "#9c179e"
             ],
             [
              0.4444444444444444,
              "#bd3786"
             ],
             [
              0.5555555555555556,
              "#d8576b"
             ],
             [
              0.6666666666666666,
              "#ed7953"
             ],
             [
              0.7777777777777778,
              "#fb9f3a"
             ],
             [
              0.8888888888888888,
              "#fdca26"
             ],
             [
              1,
              "#f0f921"
             ]
            ],
            "type": "contour"
           }
          ],
          "contourcarpet": [
           {
            "colorbar": {
             "outlinewidth": 0,
             "ticks": ""
            },
            "type": "contourcarpet"
           }
          ],
          "heatmap": [
           {
            "colorbar": {
             "outlinewidth": 0,
             "ticks": ""
            },
            "colorscale": [
             [
              0,
              "#0d0887"
             ],
             [
              0.1111111111111111,
              "#46039f"
             ],
             [
              0.2222222222222222,
              "#7201a8"
             ],
             [
              0.3333333333333333,
              "#9c179e"
             ],
             [
              0.4444444444444444,
              "#bd3786"
             ],
             [
              0.5555555555555556,
              "#d8576b"
             ],
             [
              0.6666666666666666,
              "#ed7953"
             ],
             [
              0.7777777777777778,
              "#fb9f3a"
             ],
             [
              0.8888888888888888,
              "#fdca26"
             ],
             [
              1,
              "#f0f921"
             ]
            ],
            "type": "heatmap"
           }
          ],
          "heatmapgl": [
           {
            "colorbar": {
             "outlinewidth": 0,
             "ticks": ""
            },
            "colorscale": [
             [
              0,
              "#0d0887"
             ],
             [
              0.1111111111111111,
              "#46039f"
             ],
             [
              0.2222222222222222,
              "#7201a8"
             ],
             [
              0.3333333333333333,
              "#9c179e"
             ],
             [
              0.4444444444444444,
              "#bd3786"
             ],
             [
              0.5555555555555556,
              "#d8576b"
             ],
             [
              0.6666666666666666,
              "#ed7953"
             ],
             [
              0.7777777777777778,
              "#fb9f3a"
             ],
             [
              0.8888888888888888,
              "#fdca26"
             ],
             [
              1,
              "#f0f921"
             ]
            ],
            "type": "heatmapgl"
           }
          ],
          "histogram": [
           {
            "marker": {
             "pattern": {
              "fillmode": "overlay",
              "size": 10,
              "solidity": 0.2
             }
            },
            "type": "histogram"
           }
          ],
          "histogram2d": [
           {
            "colorbar": {
             "outlinewidth": 0,
             "ticks": ""
            },
            "colorscale": [
             [
              0,
              "#0d0887"
             ],
             [
              0.1111111111111111,
              "#46039f"
             ],
             [
              0.2222222222222222,
              "#7201a8"
             ],
             [
              0.3333333333333333,
              "#9c179e"
             ],
             [
              0.4444444444444444,
              "#bd3786"
             ],
             [
              0.5555555555555556,
              "#d8576b"
             ],
             [
              0.6666666666666666,
              "#ed7953"
             ],
             [
              0.7777777777777778,
              "#fb9f3a"
             ],
             [
              0.8888888888888888,
              "#fdca26"
             ],
             [
              1,
              "#f0f921"
             ]
            ],
            "type": "histogram2d"
           }
          ],
          "histogram2dcontour": [
           {
            "colorbar": {
             "outlinewidth": 0,
             "ticks": ""
            },
            "colorscale": [
             [
              0,
              "#0d0887"
             ],
             [
              0.1111111111111111,
              "#46039f"
             ],
             [
              0.2222222222222222,
              "#7201a8"
             ],
             [
              0.3333333333333333,
              "#9c179e"
             ],
             [
              0.4444444444444444,
              "#bd3786"
             ],
             [
              0.5555555555555556,
              "#d8576b"
             ],
             [
              0.6666666666666666,
              "#ed7953"
             ],
             [
              0.7777777777777778,
              "#fb9f3a"
             ],
             [
              0.8888888888888888,
              "#fdca26"
             ],
             [
              1,
              "#f0f921"
             ]
            ],
            "type": "histogram2dcontour"
           }
          ],
          "mesh3d": [
           {
            "colorbar": {
             "outlinewidth": 0,
             "ticks": ""
            },
            "type": "mesh3d"
           }
          ],
          "parcoords": [
           {
            "line": {
             "colorbar": {
              "outlinewidth": 0,
              "ticks": ""
             }
            },
            "type": "parcoords"
           }
          ],
          "pie": [
           {
            "automargin": true,
            "type": "pie"
           }
          ],
          "scatter": [
           {
            "marker": {
             "colorbar": {
              "outlinewidth": 0,
              "ticks": ""
             }
            },
            "type": "scatter"
           }
          ],
          "scatter3d": [
           {
            "line": {
             "colorbar": {
              "outlinewidth": 0,
              "ticks": ""
             }
            },
            "marker": {
             "colorbar": {
              "outlinewidth": 0,
              "ticks": ""
             }
            },
            "type": "scatter3d"
           }
          ],
          "scattercarpet": [
           {
            "marker": {
             "colorbar": {
              "outlinewidth": 0,
              "ticks": ""
             }
            },
            "type": "scattercarpet"
           }
          ],
          "scattergeo": [
           {
            "marker": {
             "colorbar": {
              "outlinewidth": 0,
              "ticks": ""
             }
            },
            "type": "scattergeo"
           }
          ],
          "scattergl": [
           {
            "marker": {
             "colorbar": {
              "outlinewidth": 0,
              "ticks": ""
             }
            },
            "type": "scattergl"
           }
          ],
          "scattermapbox": [
           {
            "marker": {
             "colorbar": {
              "outlinewidth": 0,
              "ticks": ""
             }
            },
            "type": "scattermapbox"
           }
          ],
          "scatterpolar": [
           {
            "marker": {
             "colorbar": {
              "outlinewidth": 0,
              "ticks": ""
             }
            },
            "type": "scatterpolar"
           }
          ],
          "scatterpolargl": [
           {
            "marker": {
             "colorbar": {
              "outlinewidth": 0,
              "ticks": ""
             }
            },
            "type": "scatterpolargl"
           }
          ],
          "scatterternary": [
           {
            "marker": {
             "colorbar": {
              "outlinewidth": 0,
              "ticks": ""
             }
            },
            "type": "scatterternary"
           }
          ],
          "surface": [
           {
            "colorbar": {
             "outlinewidth": 0,
             "ticks": ""
            },
            "colorscale": [
             [
              0,
              "#0d0887"
             ],
             [
              0.1111111111111111,
              "#46039f"
             ],
             [
              0.2222222222222222,
              "#7201a8"
             ],
             [
              0.3333333333333333,
              "#9c179e"
             ],
             [
              0.4444444444444444,
              "#bd3786"
             ],
             [
              0.5555555555555556,
              "#d8576b"
             ],
             [
              0.6666666666666666,
              "#ed7953"
             ],
             [
              0.7777777777777778,
              "#fb9f3a"
             ],
             [
              0.8888888888888888,
              "#fdca26"
             ],
             [
              1,
              "#f0f921"
             ]
            ],
            "type": "surface"
           }
          ],
          "table": [
           {
            "cells": {
             "fill": {
              "color": "#EBF0F8"
             },
             "line": {
              "color": "white"
             }
            },
            "header": {
             "fill": {
              "color": "#C8D4E3"
             },
             "line": {
              "color": "white"
             }
            },
            "type": "table"
           }
          ]
         },
         "layout": {
          "annotationdefaults": {
           "arrowcolor": "#2a3f5f",
           "arrowhead": 0,
           "arrowwidth": 1
          },
          "autotypenumbers": "strict",
          "coloraxis": {
           "colorbar": {
            "outlinewidth": 0,
            "ticks": ""
           }
          },
          "colorscale": {
           "diverging": [
            [
             0,
             "#8e0152"
            ],
            [
             0.1,
             "#c51b7d"
            ],
            [
             0.2,
             "#de77ae"
            ],
            [
             0.3,
             "#f1b6da"
            ],
            [
             0.4,
             "#fde0ef"
            ],
            [
             0.5,
             "#f7f7f7"
            ],
            [
             0.6,
             "#e6f5d0"
            ],
            [
             0.7,
             "#b8e186"
            ],
            [
             0.8,
             "#7fbc41"
            ],
            [
             0.9,
             "#4d9221"
            ],
            [
             1,
             "#276419"
            ]
           ],
           "sequential": [
            [
             0,
             "#0d0887"
            ],
            [
             0.1111111111111111,
             "#46039f"
            ],
            [
             0.2222222222222222,
             "#7201a8"
            ],
            [
             0.3333333333333333,
             "#9c179e"
            ],
            [
             0.4444444444444444,
             "#bd3786"
            ],
            [
             0.5555555555555556,
             "#d8576b"
            ],
            [
             0.6666666666666666,
             "#ed7953"
            ],
            [
             0.7777777777777778,
             "#fb9f3a"
            ],
            [
             0.8888888888888888,
             "#fdca26"
            ],
            [
             1,
             "#f0f921"
            ]
           ],
           "sequentialminus": [
            [
             0,
             "#0d0887"
            ],
            [
             0.1111111111111111,
             "#46039f"
            ],
            [
             0.2222222222222222,
             "#7201a8"
            ],
            [
             0.3333333333333333,
             "#9c179e"
            ],
            [
             0.4444444444444444,
             "#bd3786"
            ],
            [
             0.5555555555555556,
             "#d8576b"
            ],
            [
             0.6666666666666666,
             "#ed7953"
            ],
            [
             0.7777777777777778,
             "#fb9f3a"
            ],
            [
             0.8888888888888888,
             "#fdca26"
            ],
            [
             1,
             "#f0f921"
            ]
           ]
          },
          "colorway": [
           "#636efa",
           "#EF553B",
           "#00cc96",
           "#ab63fa",
           "#FFA15A",
           "#19d3f3",
           "#FF6692",
           "#B6E880",
           "#FF97FF",
           "#FECB52"
          ],
          "font": {
           "color": "#2a3f5f"
          },
          "geo": {
           "bgcolor": "white",
           "lakecolor": "white",
           "landcolor": "#E5ECF6",
           "showlakes": true,
           "showland": true,
           "subunitcolor": "white"
          },
          "hoverlabel": {
           "align": "left"
          },
          "hovermode": "closest",
          "mapbox": {
           "style": "light"
          },
          "paper_bgcolor": "white",
          "plot_bgcolor": "#E5ECF6",
          "polar": {
           "angularaxis": {
            "gridcolor": "white",
            "linecolor": "white",
            "ticks": ""
           },
           "bgcolor": "#E5ECF6",
           "radialaxis": {
            "gridcolor": "white",
            "linecolor": "white",
            "ticks": ""
           }
          },
          "scene": {
           "xaxis": {
            "backgroundcolor": "#E5ECF6",
            "gridcolor": "white",
            "gridwidth": 2,
            "linecolor": "white",
            "showbackground": true,
            "ticks": "",
            "zerolinecolor": "white"
           },
           "yaxis": {
            "backgroundcolor": "#E5ECF6",
            "gridcolor": "white",
            "gridwidth": 2,
            "linecolor": "white",
            "showbackground": true,
            "ticks": "",
            "zerolinecolor": "white"
           },
           "zaxis": {
            "backgroundcolor": "#E5ECF6",
            "gridcolor": "white",
            "gridwidth": 2,
            "linecolor": "white",
            "showbackground": true,
            "ticks": "",
            "zerolinecolor": "white"
           }
          },
          "shapedefaults": {
           "line": {
            "color": "#2a3f5f"
           }
          },
          "ternary": {
           "aaxis": {
            "gridcolor": "white",
            "linecolor": "white",
            "ticks": ""
           },
           "baxis": {
            "gridcolor": "white",
            "linecolor": "white",
            "ticks": ""
           },
           "bgcolor": "#E5ECF6",
           "caxis": {
            "gridcolor": "white",
            "linecolor": "white",
            "ticks": ""
           }
          },
          "title": {
           "x": 0.05
          },
          "xaxis": {
           "automargin": true,
           "gridcolor": "white",
           "linecolor": "white",
           "ticks": "",
           "title": {
            "standoff": 15
           },
           "zerolinecolor": "white",
           "zerolinewidth": 2
          },
          "yaxis": {
           "automargin": true,
           "gridcolor": "white",
           "linecolor": "white",
           "ticks": "",
           "title": {
            "standoff": 15
           },
           "zerolinecolor": "white",
           "zerolinewidth": 2
          }
         }
        },
        "title": {
         "text": "NFL Prediction Game Scores"
        },
        "xaxis": {
         "anchor": "y",
         "domain": [
          0,
          1
         ],
         "tickformat": "d",
         "title": {
          "text": "season"
         }
        },
        "yaxis": {
         "anchor": "x",
         "domain": [
          0,
          1
         ],
         "title": {
          "text": "value"
         }
        }
       }
      }
     },
     "metadata": {},
     "output_type": "display_data"
    },
    {
     "data": {
      "application/vnd.plotly.v1+json": {
       "config": {
        "plotlyServerURL": "https://plot.ly"
       },
       "data": [
        {
         "hovertemplate": "variable=538 Prod<br>season=%{x}<br>value=%{y}<extra></extra>",
         "legendgroup": "538 Prod",
         "line": {
          "color": "#636efa",
          "dash": "solid"
         },
         "marker": {
          "symbol": "circle"
         },
         "mode": "lines",
         "name": "538 Prod",
         "orientation": "v",
         "showlegend": true,
         "type": "scatter",
         "x": [
          2017,
          2018,
          2019,
          2020,
          2021
         ],
         "xaxis": "x",
         "y": [
          0.2172977363425003,
          0.22137337609875116,
          0.22389110360373277,
          0.2184016149454931,
          0.23441759573146198
         ],
         "yaxis": "y"
        },
        {
         "hovertemplate": "variable=538 Base<br>season=%{x}<br>value=%{y}<extra></extra>",
         "legendgroup": "538 Base",
         "line": {
          "color": "#EF553B",
          "dash": "solid"
         },
         "marker": {
          "symbol": "circle"
         },
         "mode": "lines",
         "name": "538 Base",
         "orientation": "v",
         "showlegend": true,
         "type": "scatter",
         "x": [
          2017,
          2018,
          2019,
          2020,
          2021
         ],
         "xaxis": "x",
         "y": [
          0.21729469289846728,
          0.22145840225648675,
          0.2239290192864118,
          0.21842521681247762,
          0.2346400942684606
         ],
         "yaxis": "y"
        },
        {
         "hovertemplate": "variable=538 Adjusted<br>season=%{x}<br>value=%{y}<extra></extra>",
         "legendgroup": "538 Adjusted",
         "line": {
          "color": "#00cc96",
          "dash": "solid"
         },
         "marker": {
          "symbol": "circle"
         },
         "mode": "lines",
         "name": "538 Adjusted",
         "orientation": "v",
         "showlegend": true,
         "type": "scatter",
         "x": [
          2017,
          2018,
          2019,
          2020,
          2021
         ],
         "xaxis": "x",
         "y": [
          0.2163929288099511,
          0.22271684156420982,
          0.22393528646079736,
          0.21410583441825995,
          0.23466361918066206
         ],
         "yaxis": "y"
        },
        {
         "hovertemplate": "variable=Sandbox<br>season=%{x}<br>value=%{y}<extra></extra>",
         "legendgroup": "Sandbox",
         "line": {
          "color": "#ab63fa",
          "dash": "solid"
         },
         "marker": {
          "symbol": "circle"
         },
         "mode": "lines",
         "name": "Sandbox",
         "orientation": "v",
         "showlegend": true,
         "type": "scatter",
         "x": [
          2017,
          2018,
          2019,
          2020,
          2021
         ],
         "xaxis": "x",
         "y": [
          0.2164596665681634,
          0.2190597640334316,
          0.2258579297771111,
          0.21246389271280464,
          0.2330539558308129
         ],
         "yaxis": "y"
        },
        {
         "hovertemplate": "variable=Best<br>season=%{x}<br>value=%{y}<extra></extra>",
         "legendgroup": "Best",
         "line": {
          "color": "#FFA15A",
          "dash": "solid"
         },
         "marker": {
          "symbol": "circle"
         },
         "mode": "lines",
         "name": "Best",
         "orientation": "v",
         "showlegend": true,
         "type": "scatter",
         "x": [
          2017,
          2018,
          2019,
          2020,
          2021
         ],
         "xaxis": "x",
         "y": [
          0.2164596665681634,
          0.2190597640334316,
          0.2258579297771111,
          0.21246389271280464,
          0.2330539558308129
         ],
         "yaxis": "y"
        },
        {
         "hovertemplate": "variable=Vegas<br>season=%{x}<br>value=%{y}<extra></extra>",
         "legendgroup": "Vegas",
         "line": {
          "color": "#19d3f3",
          "dash": "solid"
         },
         "marker": {
          "symbol": "circle"
         },
         "mode": "lines",
         "name": "Vegas",
         "orientation": "v",
         "showlegend": true,
         "type": "scatter",
         "x": [
          2017,
          2018,
          2019,
          2020,
          2021
         ],
         "xaxis": "x",
         "y": [
          0.20306564783267755,
          0.210858854566585,
          0.2133417410472247,
          0.20123884586896154,
          0.21712941116628487
         ],
         "yaxis": "y"
        }
       ],
       "layout": {
        "legend": {
         "title": {
          "text": "variable"
         },
         "tracegroupgap": 0
        },
        "template": {
         "data": {
          "bar": [
           {
            "error_x": {
             "color": "#2a3f5f"
            },
            "error_y": {
             "color": "#2a3f5f"
            },
            "marker": {
             "line": {
              "color": "#E5ECF6",
              "width": 0.5
             },
             "pattern": {
              "fillmode": "overlay",
              "size": 10,
              "solidity": 0.2
             }
            },
            "type": "bar"
           }
          ],
          "barpolar": [
           {
            "marker": {
             "line": {
              "color": "#E5ECF6",
              "width": 0.5
             },
             "pattern": {
              "fillmode": "overlay",
              "size": 10,
              "solidity": 0.2
             }
            },
            "type": "barpolar"
           }
          ],
          "carpet": [
           {
            "aaxis": {
             "endlinecolor": "#2a3f5f",
             "gridcolor": "white",
             "linecolor": "white",
             "minorgridcolor": "white",
             "startlinecolor": "#2a3f5f"
            },
            "baxis": {
             "endlinecolor": "#2a3f5f",
             "gridcolor": "white",
             "linecolor": "white",
             "minorgridcolor": "white",
             "startlinecolor": "#2a3f5f"
            },
            "type": "carpet"
           }
          ],
          "choropleth": [
           {
            "colorbar": {
             "outlinewidth": 0,
             "ticks": ""
            },
            "type": "choropleth"
           }
          ],
          "contour": [
           {
            "colorbar": {
             "outlinewidth": 0,
             "ticks": ""
            },
            "colorscale": [
             [
              0,
              "#0d0887"
             ],
             [
              0.1111111111111111,
              "#46039f"
             ],
             [
              0.2222222222222222,
              "#7201a8"
             ],
             [
              0.3333333333333333,
              "#9c179e"
             ],
             [
              0.4444444444444444,
              "#bd3786"
             ],
             [
              0.5555555555555556,
              "#d8576b"
             ],
             [
              0.6666666666666666,
              "#ed7953"
             ],
             [
              0.7777777777777778,
              "#fb9f3a"
             ],
             [
              0.8888888888888888,
              "#fdca26"
             ],
             [
              1,
              "#f0f921"
             ]
            ],
            "type": "contour"
           }
          ],
          "contourcarpet": [
           {
            "colorbar": {
             "outlinewidth": 0,
             "ticks": ""
            },
            "type": "contourcarpet"
           }
          ],
          "heatmap": [
           {
            "colorbar": {
             "outlinewidth": 0,
             "ticks": ""
            },
            "colorscale": [
             [
              0,
              "#0d0887"
             ],
             [
              0.1111111111111111,
              "#46039f"
             ],
             [
              0.2222222222222222,
              "#7201a8"
             ],
             [
              0.3333333333333333,
              "#9c179e"
             ],
             [
              0.4444444444444444,
              "#bd3786"
             ],
             [
              0.5555555555555556,
              "#d8576b"
             ],
             [
              0.6666666666666666,
              "#ed7953"
             ],
             [
              0.7777777777777778,
              "#fb9f3a"
             ],
             [
              0.8888888888888888,
              "#fdca26"
             ],
             [
              1,
              "#f0f921"
             ]
            ],
            "type": "heatmap"
           }
          ],
          "heatmapgl": [
           {
            "colorbar": {
             "outlinewidth": 0,
             "ticks": ""
            },
            "colorscale": [
             [
              0,
              "#0d0887"
             ],
             [
              0.1111111111111111,
              "#46039f"
             ],
             [
              0.2222222222222222,
              "#7201a8"
             ],
             [
              0.3333333333333333,
              "#9c179e"
             ],
             [
              0.4444444444444444,
              "#bd3786"
             ],
             [
              0.5555555555555556,
              "#d8576b"
             ],
             [
              0.6666666666666666,
              "#ed7953"
             ],
             [
              0.7777777777777778,
              "#fb9f3a"
             ],
             [
              0.8888888888888888,
              "#fdca26"
             ],
             [
              1,
              "#f0f921"
             ]
            ],
            "type": "heatmapgl"
           }
          ],
          "histogram": [
           {
            "marker": {
             "pattern": {
              "fillmode": "overlay",
              "size": 10,
              "solidity": 0.2
             }
            },
            "type": "histogram"
           }
          ],
          "histogram2d": [
           {
            "colorbar": {
             "outlinewidth": 0,
             "ticks": ""
            },
            "colorscale": [
             [
              0,
              "#0d0887"
             ],
             [
              0.1111111111111111,
              "#46039f"
             ],
             [
              0.2222222222222222,
              "#7201a8"
             ],
             [
              0.3333333333333333,
              "#9c179e"
             ],
             [
              0.4444444444444444,
              "#bd3786"
             ],
             [
              0.5555555555555556,
              "#d8576b"
             ],
             [
              0.6666666666666666,
              "#ed7953"
             ],
             [
              0.7777777777777778,
              "#fb9f3a"
             ],
             [
              0.8888888888888888,
              "#fdca26"
             ],
             [
              1,
              "#f0f921"
             ]
            ],
            "type": "histogram2d"
           }
          ],
          "histogram2dcontour": [
           {
            "colorbar": {
             "outlinewidth": 0,
             "ticks": ""
            },
            "colorscale": [
             [
              0,
              "#0d0887"
             ],
             [
              0.1111111111111111,
              "#46039f"
             ],
             [
              0.2222222222222222,
              "#7201a8"
             ],
             [
              0.3333333333333333,
              "#9c179e"
             ],
             [
              0.4444444444444444,
              "#bd3786"
             ],
             [
              0.5555555555555556,
              "#d8576b"
             ],
             [
              0.6666666666666666,
              "#ed7953"
             ],
             [
              0.7777777777777778,
              "#fb9f3a"
             ],
             [
              0.8888888888888888,
              "#fdca26"
             ],
             [
              1,
              "#f0f921"
             ]
            ],
            "type": "histogram2dcontour"
           }
          ],
          "mesh3d": [
           {
            "colorbar": {
             "outlinewidth": 0,
             "ticks": ""
            },
            "type": "mesh3d"
           }
          ],
          "parcoords": [
           {
            "line": {
             "colorbar": {
              "outlinewidth": 0,
              "ticks": ""
             }
            },
            "type": "parcoords"
           }
          ],
          "pie": [
           {
            "automargin": true,
            "type": "pie"
           }
          ],
          "scatter": [
           {
            "marker": {
             "colorbar": {
              "outlinewidth": 0,
              "ticks": ""
             }
            },
            "type": "scatter"
           }
          ],
          "scatter3d": [
           {
            "line": {
             "colorbar": {
              "outlinewidth": 0,
              "ticks": ""
             }
            },
            "marker": {
             "colorbar": {
              "outlinewidth": 0,
              "ticks": ""
             }
            },
            "type": "scatter3d"
           }
          ],
          "scattercarpet": [
           {
            "marker": {
             "colorbar": {
              "outlinewidth": 0,
              "ticks": ""
             }
            },
            "type": "scattercarpet"
           }
          ],
          "scattergeo": [
           {
            "marker": {
             "colorbar": {
              "outlinewidth": 0,
              "ticks": ""
             }
            },
            "type": "scattergeo"
           }
          ],
          "scattergl": [
           {
            "marker": {
             "colorbar": {
              "outlinewidth": 0,
              "ticks": ""
             }
            },
            "type": "scattergl"
           }
          ],
          "scattermapbox": [
           {
            "marker": {
             "colorbar": {
              "outlinewidth": 0,
              "ticks": ""
             }
            },
            "type": "scattermapbox"
           }
          ],
          "scatterpolar": [
           {
            "marker": {
             "colorbar": {
              "outlinewidth": 0,
              "ticks": ""
             }
            },
            "type": "scatterpolar"
           }
          ],
          "scatterpolargl": [
           {
            "marker": {
             "colorbar": {
              "outlinewidth": 0,
              "ticks": ""
             }
            },
            "type": "scatterpolargl"
           }
          ],
          "scatterternary": [
           {
            "marker": {
             "colorbar": {
              "outlinewidth": 0,
              "ticks": ""
             }
            },
            "type": "scatterternary"
           }
          ],
          "surface": [
           {
            "colorbar": {
             "outlinewidth": 0,
             "ticks": ""
            },
            "colorscale": [
             [
              0,
              "#0d0887"
             ],
             [
              0.1111111111111111,
              "#46039f"
             ],
             [
              0.2222222222222222,
              "#7201a8"
             ],
             [
              0.3333333333333333,
              "#9c179e"
             ],
             [
              0.4444444444444444,
              "#bd3786"
             ],
             [
              0.5555555555555556,
              "#d8576b"
             ],
             [
              0.6666666666666666,
              "#ed7953"
             ],
             [
              0.7777777777777778,
              "#fb9f3a"
             ],
             [
              0.8888888888888888,
              "#fdca26"
             ],
             [
              1,
              "#f0f921"
             ]
            ],
            "type": "surface"
           }
          ],
          "table": [
           {
            "cells": {
             "fill": {
              "color": "#EBF0F8"
             },
             "line": {
              "color": "white"
             }
            },
            "header": {
             "fill": {
              "color": "#C8D4E3"
             },
             "line": {
              "color": "white"
             }
            },
            "type": "table"
           }
          ]
         },
         "layout": {
          "annotationdefaults": {
           "arrowcolor": "#2a3f5f",
           "arrowhead": 0,
           "arrowwidth": 1
          },
          "autotypenumbers": "strict",
          "coloraxis": {
           "colorbar": {
            "outlinewidth": 0,
            "ticks": ""
           }
          },
          "colorscale": {
           "diverging": [
            [
             0,
             "#8e0152"
            ],
            [
             0.1,
             "#c51b7d"
            ],
            [
             0.2,
             "#de77ae"
            ],
            [
             0.3,
             "#f1b6da"
            ],
            [
             0.4,
             "#fde0ef"
            ],
            [
             0.5,
             "#f7f7f7"
            ],
            [
             0.6,
             "#e6f5d0"
            ],
            [
             0.7,
             "#b8e186"
            ],
            [
             0.8,
             "#7fbc41"
            ],
            [
             0.9,
             "#4d9221"
            ],
            [
             1,
             "#276419"
            ]
           ],
           "sequential": [
            [
             0,
             "#0d0887"
            ],
            [
             0.1111111111111111,
             "#46039f"
            ],
            [
             0.2222222222222222,
             "#7201a8"
            ],
            [
             0.3333333333333333,
             "#9c179e"
            ],
            [
             0.4444444444444444,
             "#bd3786"
            ],
            [
             0.5555555555555556,
             "#d8576b"
            ],
            [
             0.6666666666666666,
             "#ed7953"
            ],
            [
             0.7777777777777778,
             "#fb9f3a"
            ],
            [
             0.8888888888888888,
             "#fdca26"
            ],
            [
             1,
             "#f0f921"
            ]
           ],
           "sequentialminus": [
            [
             0,
             "#0d0887"
            ],
            [
             0.1111111111111111,
             "#46039f"
            ],
            [
             0.2222222222222222,
             "#7201a8"
            ],
            [
             0.3333333333333333,
             "#9c179e"
            ],
            [
             0.4444444444444444,
             "#bd3786"
            ],
            [
             0.5555555555555556,
             "#d8576b"
            ],
            [
             0.6666666666666666,
             "#ed7953"
            ],
            [
             0.7777777777777778,
             "#fb9f3a"
            ],
            [
             0.8888888888888888,
             "#fdca26"
            ],
            [
             1,
             "#f0f921"
            ]
           ]
          },
          "colorway": [
           "#636efa",
           "#EF553B",
           "#00cc96",
           "#ab63fa",
           "#FFA15A",
           "#19d3f3",
           "#FF6692",
           "#B6E880",
           "#FF97FF",
           "#FECB52"
          ],
          "font": {
           "color": "#2a3f5f"
          },
          "geo": {
           "bgcolor": "white",
           "lakecolor": "white",
           "landcolor": "#E5ECF6",
           "showlakes": true,
           "showland": true,
           "subunitcolor": "white"
          },
          "hoverlabel": {
           "align": "left"
          },
          "hovermode": "closest",
          "mapbox": {
           "style": "light"
          },
          "paper_bgcolor": "white",
          "plot_bgcolor": "#E5ECF6",
          "polar": {
           "angularaxis": {
            "gridcolor": "white",
            "linecolor": "white",
            "ticks": ""
           },
           "bgcolor": "#E5ECF6",
           "radialaxis": {
            "gridcolor": "white",
            "linecolor": "white",
            "ticks": ""
           }
          },
          "scene": {
           "xaxis": {
            "backgroundcolor": "#E5ECF6",
            "gridcolor": "white",
            "gridwidth": 2,
            "linecolor": "white",
            "showbackground": true,
            "ticks": "",
            "zerolinecolor": "white"
           },
           "yaxis": {
            "backgroundcolor": "#E5ECF6",
            "gridcolor": "white",
            "gridwidth": 2,
            "linecolor": "white",
            "showbackground": true,
            "ticks": "",
            "zerolinecolor": "white"
           },
           "zaxis": {
            "backgroundcolor": "#E5ECF6",
            "gridcolor": "white",
            "gridwidth": 2,
            "linecolor": "white",
            "showbackground": true,
            "ticks": "",
            "zerolinecolor": "white"
           }
          },
          "shapedefaults": {
           "line": {
            "color": "#2a3f5f"
           }
          },
          "ternary": {
           "aaxis": {
            "gridcolor": "white",
            "linecolor": "white",
            "ticks": ""
           },
           "baxis": {
            "gridcolor": "white",
            "linecolor": "white",
            "ticks": ""
           },
           "bgcolor": "#E5ECF6",
           "caxis": {
            "gridcolor": "white",
            "linecolor": "white",
            "ticks": ""
           }
          },
          "title": {
           "x": 0.05
          },
          "xaxis": {
           "automargin": true,
           "gridcolor": "white",
           "linecolor": "white",
           "ticks": "",
           "title": {
            "standoff": 15
           },
           "zerolinecolor": "white",
           "zerolinewidth": 2
          },
          "yaxis": {
           "automargin": true,
           "gridcolor": "white",
           "linecolor": "white",
           "ticks": "",
           "title": {
            "standoff": 15
           },
           "zerolinecolor": "white",
           "zerolinewidth": 2
          }
         }
        },
        "title": {
         "text": "Grier Scores"
        },
        "xaxis": {
         "anchor": "y",
         "domain": [
          0,
          1
         ],
         "tickformat": "d",
         "title": {
          "text": "season"
         }
        },
        "yaxis": {
         "anchor": "x",
         "domain": [
          0,
          1
         ],
         "title": {
          "text": "value"
         }
        }
       }
      }
     },
     "metadata": {},
     "output_type": "display_data"
    },
    {
     "data": {
      "application/vnd.plotly.v1+json": {
       "config": {
        "plotlyServerURL": "https://plot.ly"
       },
       "data": [
        {
         "hovertemplate": "variable=538 Prod<br>season=%{x}<br>value=%{y}<extra></extra>",
         "legendgroup": "538 Prod",
         "line": {
          "color": "#636efa",
          "dash": "solid"
         },
         "marker": {
          "symbol": "circle"
         },
         "mode": "lines",
         "name": "538 Prod",
         "orientation": "v",
         "showlegend": true,
         "type": "scatter",
         "x": [
          2017,
          2018,
          2019,
          2020,
          2021
         ],
         "xaxis": "x",
         "y": [
          -14.195204940923222,
          -0.8586765892466115,
          -26.941771449504014,
          -31.205604495461003,
          -13.029917096493918
         ],
         "yaxis": "y"
        },
        {
         "hovertemplate": "variable=538 Base<br>season=%{x}<br>value=%{y}<extra></extra>",
         "legendgroup": "538 Base",
         "line": {
          "color": "#EF553B",
          "dash": "solid"
         },
         "marker": {
          "symbol": "circle"
         },
         "mode": "lines",
         "name": "538 Base",
         "orientation": "v",
         "showlegend": true,
         "type": "scatter",
         "x": [
          2017,
          2018,
          2019,
          2020,
          2021
         ],
         "xaxis": "x",
         "y": [
          -18.04520494092322,
          -0.8586765892466115,
          -26.941771449504014,
          -31.205604495461003,
          -17.2537466981223
         ],
         "yaxis": "y"
        },
        {
         "hovertemplate": "variable=538 Adjusted<br>season=%{x}<br>value=%{y}<extra></extra>",
         "legendgroup": "538 Adjusted",
         "line": {
          "color": "#00cc96",
          "dash": "solid"
         },
         "marker": {
          "symbol": "circle"
         },
         "mode": "lines",
         "name": "538 Adjusted",
         "orientation": "v",
         "showlegend": true,
         "type": "scatter",
         "x": [
          2017,
          2018,
          2019,
          2020,
          2021
         ],
         "xaxis": "x",
         "y": [
          -25.25145219947656,
          -7.99189485189172,
          -8.521488113397043,
          -21.497361034878352,
          -5.417829475548843
         ],
         "yaxis": "y"
        },
        {
         "hovertemplate": "variable=Sandbox<br>season=%{x}<br>value=%{y}<extra></extra>",
         "legendgroup": "Sandbox",
         "line": {
          "color": "#ab63fa",
          "dash": "solid"
         },
         "marker": {
          "symbol": "circle"
         },
         "mode": "lines",
         "name": "Sandbox",
         "orientation": "v",
         "showlegend": true,
         "type": "scatter",
         "x": [
          2017,
          2018,
          2019,
          2020,
          2021
         ],
         "xaxis": "x",
         "y": [
          -11.416561813416624,
          3.563568743575353,
          -11.229905907990123,
          -10.272224162666413,
          2.276090010307672
         ],
         "yaxis": "y"
        },
        {
         "hovertemplate": "variable=Best<br>season=%{x}<br>value=%{y}<extra></extra>",
         "legendgroup": "Best",
         "line": {
          "color": "#FFA15A",
          "dash": "solid"
         },
         "marker": {
          "symbol": "circle"
         },
         "mode": "lines",
         "name": "Best",
         "orientation": "v",
         "showlegend": true,
         "type": "scatter",
         "x": [
          2017,
          2018,
          2019,
          2020,
          2021
         ],
         "xaxis": "x",
         "y": [
          -11.416561813416624,
          3.563568743575353,
          -11.229905907990123,
          -10.272224162666413,
          2.276090010307672
         ],
         "yaxis": "y"
        }
       ],
       "layout": {
        "legend": {
         "title": {
          "text": "variable"
         },
         "tracegroupgap": 0
        },
        "template": {
         "data": {
          "bar": [
           {
            "error_x": {
             "color": "#2a3f5f"
            },
            "error_y": {
             "color": "#2a3f5f"
            },
            "marker": {
             "line": {
              "color": "#E5ECF6",
              "width": 0.5
             },
             "pattern": {
              "fillmode": "overlay",
              "size": 10,
              "solidity": 0.2
             }
            },
            "type": "bar"
           }
          ],
          "barpolar": [
           {
            "marker": {
             "line": {
              "color": "#E5ECF6",
              "width": 0.5
             },
             "pattern": {
              "fillmode": "overlay",
              "size": 10,
              "solidity": 0.2
             }
            },
            "type": "barpolar"
           }
          ],
          "carpet": [
           {
            "aaxis": {
             "endlinecolor": "#2a3f5f",
             "gridcolor": "white",
             "linecolor": "white",
             "minorgridcolor": "white",
             "startlinecolor": "#2a3f5f"
            },
            "baxis": {
             "endlinecolor": "#2a3f5f",
             "gridcolor": "white",
             "linecolor": "white",
             "minorgridcolor": "white",
             "startlinecolor": "#2a3f5f"
            },
            "type": "carpet"
           }
          ],
          "choropleth": [
           {
            "colorbar": {
             "outlinewidth": 0,
             "ticks": ""
            },
            "type": "choropleth"
           }
          ],
          "contour": [
           {
            "colorbar": {
             "outlinewidth": 0,
             "ticks": ""
            },
            "colorscale": [
             [
              0,
              "#0d0887"
             ],
             [
              0.1111111111111111,
              "#46039f"
             ],
             [
              0.2222222222222222,
              "#7201a8"
             ],
             [
              0.3333333333333333,
              "#9c179e"
             ],
             [
              0.4444444444444444,
              "#bd3786"
             ],
             [
              0.5555555555555556,
              "#d8576b"
             ],
             [
              0.6666666666666666,
              "#ed7953"
             ],
             [
              0.7777777777777778,
              "#fb9f3a"
             ],
             [
              0.8888888888888888,
              "#fdca26"
             ],
             [
              1,
              "#f0f921"
             ]
            ],
            "type": "contour"
           }
          ],
          "contourcarpet": [
           {
            "colorbar": {
             "outlinewidth": 0,
             "ticks": ""
            },
            "type": "contourcarpet"
           }
          ],
          "heatmap": [
           {
            "colorbar": {
             "outlinewidth": 0,
             "ticks": ""
            },
            "colorscale": [
             [
              0,
              "#0d0887"
             ],
             [
              0.1111111111111111,
              "#46039f"
             ],
             [
              0.2222222222222222,
              "#7201a8"
             ],
             [
              0.3333333333333333,
              "#9c179e"
             ],
             [
              0.4444444444444444,
              "#bd3786"
             ],
             [
              0.5555555555555556,
              "#d8576b"
             ],
             [
              0.6666666666666666,
              "#ed7953"
             ],
             [
              0.7777777777777778,
              "#fb9f3a"
             ],
             [
              0.8888888888888888,
              "#fdca26"
             ],
             [
              1,
              "#f0f921"
             ]
            ],
            "type": "heatmap"
           }
          ],
          "heatmapgl": [
           {
            "colorbar": {
             "outlinewidth": 0,
             "ticks": ""
            },
            "colorscale": [
             [
              0,
              "#0d0887"
             ],
             [
              0.1111111111111111,
              "#46039f"
             ],
             [
              0.2222222222222222,
              "#7201a8"
             ],
             [
              0.3333333333333333,
              "#9c179e"
             ],
             [
              0.4444444444444444,
              "#bd3786"
             ],
             [
              0.5555555555555556,
              "#d8576b"
             ],
             [
              0.6666666666666666,
              "#ed7953"
             ],
             [
              0.7777777777777778,
              "#fb9f3a"
             ],
             [
              0.8888888888888888,
              "#fdca26"
             ],
             [
              1,
              "#f0f921"
             ]
            ],
            "type": "heatmapgl"
           }
          ],
          "histogram": [
           {
            "marker": {
             "pattern": {
              "fillmode": "overlay",
              "size": 10,
              "solidity": 0.2
             }
            },
            "type": "histogram"
           }
          ],
          "histogram2d": [
           {
            "colorbar": {
             "outlinewidth": 0,
             "ticks": ""
            },
            "colorscale": [
             [
              0,
              "#0d0887"
             ],
             [
              0.1111111111111111,
              "#46039f"
             ],
             [
              0.2222222222222222,
              "#7201a8"
             ],
             [
              0.3333333333333333,
              "#9c179e"
             ],
             [
              0.4444444444444444,
              "#bd3786"
             ],
             [
              0.5555555555555556,
              "#d8576b"
             ],
             [
              0.6666666666666666,
              "#ed7953"
             ],
             [
              0.7777777777777778,
              "#fb9f3a"
             ],
             [
              0.8888888888888888,
              "#fdca26"
             ],
             [
              1,
              "#f0f921"
             ]
            ],
            "type": "histogram2d"
           }
          ],
          "histogram2dcontour": [
           {
            "colorbar": {
             "outlinewidth": 0,
             "ticks": ""
            },
            "colorscale": [
             [
              0,
              "#0d0887"
             ],
             [
              0.1111111111111111,
              "#46039f"
             ],
             [
              0.2222222222222222,
              "#7201a8"
             ],
             [
              0.3333333333333333,
              "#9c179e"
             ],
             [
              0.4444444444444444,
              "#bd3786"
             ],
             [
              0.5555555555555556,
              "#d8576b"
             ],
             [
              0.6666666666666666,
              "#ed7953"
             ],
             [
              0.7777777777777778,
              "#fb9f3a"
             ],
             [
              0.8888888888888888,
              "#fdca26"
             ],
             [
              1,
              "#f0f921"
             ]
            ],
            "type": "histogram2dcontour"
           }
          ],
          "mesh3d": [
           {
            "colorbar": {
             "outlinewidth": 0,
             "ticks": ""
            },
            "type": "mesh3d"
           }
          ],
          "parcoords": [
           {
            "line": {
             "colorbar": {
              "outlinewidth": 0,
              "ticks": ""
             }
            },
            "type": "parcoords"
           }
          ],
          "pie": [
           {
            "automargin": true,
            "type": "pie"
           }
          ],
          "scatter": [
           {
            "marker": {
             "colorbar": {
              "outlinewidth": 0,
              "ticks": ""
             }
            },
            "type": "scatter"
           }
          ],
          "scatter3d": [
           {
            "line": {
             "colorbar": {
              "outlinewidth": 0,
              "ticks": ""
             }
            },
            "marker": {
             "colorbar": {
              "outlinewidth": 0,
              "ticks": ""
             }
            },
            "type": "scatter3d"
           }
          ],
          "scattercarpet": [
           {
            "marker": {
             "colorbar": {
              "outlinewidth": 0,
              "ticks": ""
             }
            },
            "type": "scattercarpet"
           }
          ],
          "scattergeo": [
           {
            "marker": {
             "colorbar": {
              "outlinewidth": 0,
              "ticks": ""
             }
            },
            "type": "scattergeo"
           }
          ],
          "scattergl": [
           {
            "marker": {
             "colorbar": {
              "outlinewidth": 0,
              "ticks": ""
             }
            },
            "type": "scattergl"
           }
          ],
          "scattermapbox": [
           {
            "marker": {
             "colorbar": {
              "outlinewidth": 0,
              "ticks": ""
             }
            },
            "type": "scattermapbox"
           }
          ],
          "scatterpolar": [
           {
            "marker": {
             "colorbar": {
              "outlinewidth": 0,
              "ticks": ""
             }
            },
            "type": "scatterpolar"
           }
          ],
          "scatterpolargl": [
           {
            "marker": {
             "colorbar": {
              "outlinewidth": 0,
              "ticks": ""
             }
            },
            "type": "scatterpolargl"
           }
          ],
          "scatterternary": [
           {
            "marker": {
             "colorbar": {
              "outlinewidth": 0,
              "ticks": ""
             }
            },
            "type": "scatterternary"
           }
          ],
          "surface": [
           {
            "colorbar": {
             "outlinewidth": 0,
             "ticks": ""
            },
            "colorscale": [
             [
              0,
              "#0d0887"
             ],
             [
              0.1111111111111111,
              "#46039f"
             ],
             [
              0.2222222222222222,
              "#7201a8"
             ],
             [
              0.3333333333333333,
              "#9c179e"
             ],
             [
              0.4444444444444444,
              "#bd3786"
             ],
             [
              0.5555555555555556,
              "#d8576b"
             ],
             [
              0.6666666666666666,
              "#ed7953"
             ],
             [
              0.7777777777777778,
              "#fb9f3a"
             ],
             [
              0.8888888888888888,
              "#fdca26"
             ],
             [
              1,
              "#f0f921"
             ]
            ],
            "type": "surface"
           }
          ],
          "table": [
           {
            "cells": {
             "fill": {
              "color": "#EBF0F8"
             },
             "line": {
              "color": "white"
             }
            },
            "header": {
             "fill": {
              "color": "#C8D4E3"
             },
             "line": {
              "color": "white"
             }
            },
            "type": "table"
           }
          ]
         },
         "layout": {
          "annotationdefaults": {
           "arrowcolor": "#2a3f5f",
           "arrowhead": 0,
           "arrowwidth": 1
          },
          "autotypenumbers": "strict",
          "coloraxis": {
           "colorbar": {
            "outlinewidth": 0,
            "ticks": ""
           }
          },
          "colorscale": {
           "diverging": [
            [
             0,
             "#8e0152"
            ],
            [
             0.1,
             "#c51b7d"
            ],
            [
             0.2,
             "#de77ae"
            ],
            [
             0.3,
             "#f1b6da"
            ],
            [
             0.4,
             "#fde0ef"
            ],
            [
             0.5,
             "#f7f7f7"
            ],
            [
             0.6,
             "#e6f5d0"
            ],
            [
             0.7,
             "#b8e186"
            ],
            [
             0.8,
             "#7fbc41"
            ],
            [
             0.9,
             "#4d9221"
            ],
            [
             1,
             "#276419"
            ]
           ],
           "sequential": [
            [
             0,
             "#0d0887"
            ],
            [
             0.1111111111111111,
             "#46039f"
            ],
            [
             0.2222222222222222,
             "#7201a8"
            ],
            [
             0.3333333333333333,
             "#9c179e"
            ],
            [
             0.4444444444444444,
             "#bd3786"
            ],
            [
             0.5555555555555556,
             "#d8576b"
            ],
            [
             0.6666666666666666,
             "#ed7953"
            ],
            [
             0.7777777777777778,
             "#fb9f3a"
            ],
            [
             0.8888888888888888,
             "#fdca26"
            ],
            [
             1,
             "#f0f921"
            ]
           ],
           "sequentialminus": [
            [
             0,
             "#0d0887"
            ],
            [
             0.1111111111111111,
             "#46039f"
            ],
            [
             0.2222222222222222,
             "#7201a8"
            ],
            [
             0.3333333333333333,
             "#9c179e"
            ],
            [
             0.4444444444444444,
             "#bd3786"
            ],
            [
             0.5555555555555556,
             "#d8576b"
            ],
            [
             0.6666666666666666,
             "#ed7953"
            ],
            [
             0.7777777777777778,
             "#fb9f3a"
            ],
            [
             0.8888888888888888,
             "#fdca26"
            ],
            [
             1,
             "#f0f921"
            ]
           ]
          },
          "colorway": [
           "#636efa",
           "#EF553B",
           "#00cc96",
           "#ab63fa",
           "#FFA15A",
           "#19d3f3",
           "#FF6692",
           "#B6E880",
           "#FF97FF",
           "#FECB52"
          ],
          "font": {
           "color": "#2a3f5f"
          },
          "geo": {
           "bgcolor": "white",
           "lakecolor": "white",
           "landcolor": "#E5ECF6",
           "showlakes": true,
           "showland": true,
           "subunitcolor": "white"
          },
          "hoverlabel": {
           "align": "left"
          },
          "hovermode": "closest",
          "mapbox": {
           "style": "light"
          },
          "paper_bgcolor": "white",
          "plot_bgcolor": "#E5ECF6",
          "polar": {
           "angularaxis": {
            "gridcolor": "white",
            "linecolor": "white",
            "ticks": ""
           },
           "bgcolor": "#E5ECF6",
           "radialaxis": {
            "gridcolor": "white",
            "linecolor": "white",
            "ticks": ""
           }
          },
          "scene": {
           "xaxis": {
            "backgroundcolor": "#E5ECF6",
            "gridcolor": "white",
            "gridwidth": 2,
            "linecolor": "white",
            "showbackground": true,
            "ticks": "",
            "zerolinecolor": "white"
           },
           "yaxis": {
            "backgroundcolor": "#E5ECF6",
            "gridcolor": "white",
            "gridwidth": 2,
            "linecolor": "white",
            "showbackground": true,
            "ticks": "",
            "zerolinecolor": "white"
           },
           "zaxis": {
            "backgroundcolor": "#E5ECF6",
            "gridcolor": "white",
            "gridwidth": 2,
            "linecolor": "white",
            "showbackground": true,
            "ticks": "",
            "zerolinecolor": "white"
           }
          },
          "shapedefaults": {
           "line": {
            "color": "#2a3f5f"
           }
          },
          "ternary": {
           "aaxis": {
            "gridcolor": "white",
            "linecolor": "white",
            "ticks": ""
           },
           "baxis": {
            "gridcolor": "white",
            "linecolor": "white",
            "ticks": ""
           },
           "bgcolor": "#E5ECF6",
           "caxis": {
            "gridcolor": "white",
            "linecolor": "white",
            "ticks": ""
           }
          },
          "title": {
           "x": 0.05
          },
          "xaxis": {
           "automargin": true,
           "gridcolor": "white",
           "linecolor": "white",
           "ticks": "",
           "title": {
            "standoff": 15
           },
           "zerolinecolor": "white",
           "zerolinewidth": 2
          },
          "yaxis": {
           "automargin": true,
           "gridcolor": "white",
           "linecolor": "white",
           "ticks": "",
           "title": {
            "standoff": 15
           },
           "zerolinecolor": "white",
           "zerolinewidth": 2
          }
         }
        },
        "title": {
         "text": "Moneyline Bet Payouts"
        },
        "xaxis": {
         "anchor": "y",
         "domain": [
          0,
          1
         ],
         "tickformat": "d",
         "title": {
          "text": "season"
         }
        },
        "yaxis": {
         "anchor": "x",
         "domain": [
          0,
          1
         ],
         "title": {
          "text": "value"
         }
        }
       }
      }
     },
     "metadata": {},
     "output_type": "display_data"
    }
   ],
   "source": [
    "# Put all the results on charts\n",
    "preds = {'538 Prod': prod_pred,\n",
    "         '538 Base': base_pred,\n",
    "         '538 Adjusted': adj_pred,\n",
    "         'Sandbox': sand_pred,\n",
    "         'Best': best_pred,\n",
    "         'Vegas': vegas}\n",
    "\n",
    "# NFL Prediction Game Scores\n",
    "scores = pd.concat([preds[pred].groupby('season')['score'].sum().tail(5).rename(pred) for pred in preds], axis=1)\n",
    "scores = pd.melt(scores.reset_index(), id_vars='season', value_vars=scores.columns)\n",
    "fig = px.line(scores, x='season', y='value', color='variable', title='NFL Prediction Game Scores')\n",
    "fig.update_layout(xaxis={'tickformat':'d'})\n",
    "fig.show()\n",
    "\n",
    "# Grier Scores\n",
    "scores = pd.concat([preds[pred].groupby('season')['grier_score'].mean().tail(5).rename(pred) for pred in preds], axis=1)\n",
    "scores = pd.melt(scores.reset_index(), id_vars='season', value_vars=scores.columns)\n",
    "fig = px.line(scores, x='season', y='value', color='variable', title='Grier Scores')\n",
    "fig.update_layout(xaxis={'tickformat':'d'})\n",
    "fig.show()\n",
    "\n",
    "# Vegas Bet Payouts\n",
    "scores = pd.concat([preds[pred].groupby('season')['bet_payout'].sum().tail(5).rename(pred) for pred in preds if pred != 'Vegas'], axis=1)\n",
    "scores = pd.melt(scores.reset_index(), id_vars='season', value_vars=scores.columns)\n",
    "fig = px.line(scores, x='season', y='value', color='variable', title='Moneyline Bet Payouts')\n",
    "fig.update_layout(xaxis={'tickformat':'d'})\n",
    "fig.show()\n",
    "\n"
   ]
  },
  {
   "cell_type": "code",
   "execution_count": 11,
   "metadata": {},
   "outputs": [
    {
     "data": {
      "text/html": [
       "<div>\n",
       "<style scoped>\n",
       "    .dataframe tbody tr th:only-of-type {\n",
       "        vertical-align: middle;\n",
       "    }\n",
       "\n",
       "    .dataframe tbody tr th {\n",
       "        vertical-align: top;\n",
       "    }\n",
       "\n",
       "    .dataframe thead th {\n",
       "        text-align: right;\n",
       "    }\n",
       "</style>\n",
       "<table border=\"1\" class=\"dataframe\">\n",
       "  <thead>\n",
       "    <tr style=\"text-align: right;\">\n",
       "      <th></th>\n",
       "      <th>season</th>\n",
       "      <th>game_id</th>\n",
       "      <th>game_type</th>\n",
       "      <th>team1</th>\n",
       "      <th>team2</th>\n",
       "      <th>team1_moneyline</th>\n",
       "      <th>team2_moneyline</th>\n",
       "      <th>sandbox_elo1</th>\n",
       "      <th>sandbox_elo2</th>\n",
       "      <th>qb_elo1</th>\n",
       "      <th>qb_elo2</th>\n",
       "      <th>qb_val1</th>\n",
       "      <th>qb_val2</th>\n",
       "      <th>rest_adjustment</th>\n",
       "      <th>sandbox_pred1</th>\n",
       "      <th>result1</th>\n",
       "      <th>score</th>\n",
       "      <th>grier_score</th>\n",
       "      <th>bet_payout</th>\n",
       "    </tr>\n",
       "  </thead>\n",
       "  <tbody>\n",
       "    <tr>\n",
       "      <th>3201</th>\n",
       "      <td>2021</td>\n",
       "      <td>2021_18_IND_JAX</td>\n",
       "      <td>REG</td>\n",
       "      <td>JAX</td>\n",
       "      <td>IND</td>\n",
       "      <td>650.0</td>\n",
       "      <td>-1000.0</td>\n",
       "      <td>1299.431127</td>\n",
       "      <td>1651.085277</td>\n",
       "      <td>-9.874232</td>\n",
       "      <td>-9.368780</td>\n",
       "      <td>-6.815817</td>\n",
       "      <td>0.161873</td>\n",
       "      <td>0.0</td>\n",
       "      <td>0.153087</td>\n",
       "      <td>1.0</td>\n",
       "      <td>-47.25</td>\n",
       "      <td>0.717261</td>\n",
       "      <td>6.500000</td>\n",
       "    </tr>\n",
       "    <tr>\n",
       "      <th>3199</th>\n",
       "      <td>2021</td>\n",
       "      <td>2021_18_GB_DET</td>\n",
       "      <td>REG</td>\n",
       "      <td>DET</td>\n",
       "      <td>GB</td>\n",
       "      <td>165.0</td>\n",
       "      <td>-195.0</td>\n",
       "      <td>1390.461147</td>\n",
       "      <td>1720.525171</td>\n",
       "      <td>-6.564883</td>\n",
       "      <td>13.210138</td>\n",
       "      <td>-4.323080</td>\n",
       "      <td>10.861949</td>\n",
       "      <td>0.0</td>\n",
       "      <td>0.154827</td>\n",
       "      <td>1.0</td>\n",
       "      <td>-47.25</td>\n",
       "      <td>0.714317</td>\n",
       "      <td>-1.000000</td>\n",
       "    </tr>\n",
       "    <tr>\n",
       "      <th>3098</th>\n",
       "      <td>2021</td>\n",
       "      <td>2021_11_HOU_TEN</td>\n",
       "      <td>REG</td>\n",
       "      <td>TEN</td>\n",
       "      <td>HOU</td>\n",
       "      <td>-462.0</td>\n",
       "      <td>377.0</td>\n",
       "      <td>1672.953927</td>\n",
       "      <td>1418.138039</td>\n",
       "      <td>-7.952079</td>\n",
       "      <td>-24.011610</td>\n",
       "      <td>4.905255</td>\n",
       "      <td>-2.429294</td>\n",
       "      <td>-25.0</td>\n",
       "      <td>0.849665</td>\n",
       "      <td>0.0</td>\n",
       "      <td>-47.25</td>\n",
       "      <td>0.721931</td>\n",
       "      <td>-1.000000</td>\n",
       "    </tr>\n",
       "    <tr>\n",
       "      <th>3066</th>\n",
       "      <td>2021</td>\n",
       "      <td>2021_09_BUF_JAX</td>\n",
       "      <td>REG</td>\n",
       "      <td>JAX</td>\n",
       "      <td>BUF</td>\n",
       "      <td>776.0</td>\n",
       "      <td>-1101.0</td>\n",
       "      <td>1355.934783</td>\n",
       "      <td>1699.588741</td>\n",
       "      <td>0.493690</td>\n",
       "      <td>-6.082155</td>\n",
       "      <td>-4.208421</td>\n",
       "      <td>7.991095</td>\n",
       "      <td>0.0</td>\n",
       "      <td>0.164685</td>\n",
       "      <td>1.0</td>\n",
       "      <td>-45.56</td>\n",
       "      <td>0.697751</td>\n",
       "      <td>7.760000</td>\n",
       "    </tr>\n",
       "    <tr>\n",
       "      <th>2994</th>\n",
       "      <td>2021</td>\n",
       "      <td>2021_04_NYG_NO</td>\n",
       "      <td>REG</td>\n",
       "      <td>NO</td>\n",
       "      <td>NYG</td>\n",
       "      <td>-337.0</td>\n",
       "      <td>286.0</td>\n",
       "      <td>1655.128681</td>\n",
       "      <td>1456.418261</td>\n",
       "      <td>-2.066445</td>\n",
       "      <td>16.438994</td>\n",
       "      <td>3.973714</td>\n",
       "      <td>2.685251</td>\n",
       "      <td>0.0</td>\n",
       "      <td>0.794774</td>\n",
       "      <td>0.0</td>\n",
       "      <td>-37.41</td>\n",
       "      <td>0.631666</td>\n",
       "      <td>-1.000000</td>\n",
       "    </tr>\n",
       "    <tr>\n",
       "      <th>...</th>\n",
       "      <td>...</td>\n",
       "      <td>...</td>\n",
       "      <td>...</td>\n",
       "      <td>...</td>\n",
       "      <td>...</td>\n",
       "      <td>...</td>\n",
       "      <td>...</td>\n",
       "      <td>...</td>\n",
       "      <td>...</td>\n",
       "      <td>...</td>\n",
       "      <td>...</td>\n",
       "      <td>...</td>\n",
       "      <td>...</td>\n",
       "      <td>...</td>\n",
       "      <td>...</td>\n",
       "      <td>...</td>\n",
       "      <td>...</td>\n",
       "      <td>...</td>\n",
       "      <td>...</td>\n",
       "    </tr>\n",
       "    <tr>\n",
       "      <th>3139</th>\n",
       "      <td>2021</td>\n",
       "      <td>2021_14_JAX_TEN</td>\n",
       "      <td>REG</td>\n",
       "      <td>TEN</td>\n",
       "      <td>JAX</td>\n",
       "      <td>-384.0</td>\n",
       "      <td>321.0</td>\n",
       "      <td>1612.733511</td>\n",
       "      <td>1342.612145</td>\n",
       "      <td>-8.047728</td>\n",
       "      <td>7.804845</td>\n",
       "      <td>3.765084</td>\n",
       "      <td>-2.734438</td>\n",
       "      <td>25.0</td>\n",
       "      <td>0.872607</td>\n",
       "      <td>1.0</td>\n",
       "      <td>23.31</td>\n",
       "      <td>0.016229</td>\n",
       "      <td>0.260417</td>\n",
       "    </tr>\n",
       "    <tr>\n",
       "      <th>3145</th>\n",
       "      <td>2021</td>\n",
       "      <td>2021_14_CHI_GB</td>\n",
       "      <td>REG</td>\n",
       "      <td>GB</td>\n",
       "      <td>CHI</td>\n",
       "      <td>-639.0</td>\n",
       "      <td>498.0</td>\n",
       "      <td>1688.439053</td>\n",
       "      <td>1501.090294</td>\n",
       "      <td>12.431333</td>\n",
       "      <td>-20.183866</td>\n",
       "      <td>10.885722</td>\n",
       "      <td>-6.367779</td>\n",
       "      <td>25.0</td>\n",
       "      <td>0.869826</td>\n",
       "      <td>1.0</td>\n",
       "      <td>23.31</td>\n",
       "      <td>0.016945</td>\n",
       "      <td>0.000000</td>\n",
       "    </tr>\n",
       "    <tr>\n",
       "      <th>3184</th>\n",
       "      <td>2021</td>\n",
       "      <td>2021_17_JAX_NE</td>\n",
       "      <td>REG</td>\n",
       "      <td>NE</td>\n",
       "      <td>JAX</td>\n",
       "      <td>-1056.0</td>\n",
       "      <td>727.0</td>\n",
       "      <td>1615.007346</td>\n",
       "      <td>1303.914875</td>\n",
       "      <td>0.009308</td>\n",
       "      <td>1.298044</td>\n",
       "      <td>2.417817</td>\n",
       "      <td>-4.761598</td>\n",
       "      <td>0.0</td>\n",
       "      <td>0.890901</td>\n",
       "      <td>1.0</td>\n",
       "      <td>23.79</td>\n",
       "      <td>0.011903</td>\n",
       "      <td>0.000000</td>\n",
       "    </tr>\n",
       "    <tr>\n",
       "      <th>3206</th>\n",
       "      <td>2021</td>\n",
       "      <td>2021_18_NYJ_BUF</td>\n",
       "      <td>REG</td>\n",
       "      <td>BUF</td>\n",
       "      <td>NYJ</td>\n",
       "      <td>-1250.0</td>\n",
       "      <td>750.0</td>\n",
       "      <td>1679.636237</td>\n",
       "      <td>1389.326128</td>\n",
       "      <td>-2.637495</td>\n",
       "      <td>-15.363980</td>\n",
       "      <td>5.310258</td>\n",
       "      <td>-6.728464</td>\n",
       "      <td>0.0</td>\n",
       "      <td>0.887057</td>\n",
       "      <td>1.0</td>\n",
       "      <td>23.79</td>\n",
       "      <td>0.012756</td>\n",
       "      <td>0.000000</td>\n",
       "    </tr>\n",
       "    <tr>\n",
       "      <th>3040</th>\n",
       "      <td>2021</td>\n",
       "      <td>2021_07_DET_LA</td>\n",
       "      <td>REG</td>\n",
       "      <td>LAR</td>\n",
       "      <td>DET</td>\n",
       "      <td>-1256.0</td>\n",
       "      <td>860.0</td>\n",
       "      <td>1643.336679</td>\n",
       "      <td>1383.244522</td>\n",
       "      <td>47.047373</td>\n",
       "      <td>-25.842947</td>\n",
       "      <td>11.799004</td>\n",
       "      <td>-5.753438</td>\n",
       "      <td>0.0</td>\n",
       "      <td>0.903210</td>\n",
       "      <td>1.0</td>\n",
       "      <td>24.00</td>\n",
       "      <td>0.009368</td>\n",
       "      <td>0.000000</td>\n",
       "    </tr>\n",
       "  </tbody>\n",
       "</table>\n",
       "<p>272 rows × 19 columns</p>\n",
       "</div>"
      ],
      "text/plain": [
       "      season          game_id game_type team1 team2  team1_moneyline  \\\n",
       "3201    2021  2021_18_IND_JAX       REG   JAX   IND            650.0   \n",
       "3199    2021   2021_18_GB_DET       REG   DET    GB            165.0   \n",
       "3098    2021  2021_11_HOU_TEN       REG   TEN   HOU           -462.0   \n",
       "3066    2021  2021_09_BUF_JAX       REG   JAX   BUF            776.0   \n",
       "2994    2021   2021_04_NYG_NO       REG    NO   NYG           -337.0   \n",
       "...      ...              ...       ...   ...   ...              ...   \n",
       "3139    2021  2021_14_JAX_TEN       REG   TEN   JAX           -384.0   \n",
       "3145    2021   2021_14_CHI_GB       REG    GB   CHI           -639.0   \n",
       "3184    2021   2021_17_JAX_NE       REG    NE   JAX          -1056.0   \n",
       "3206    2021  2021_18_NYJ_BUF       REG   BUF   NYJ          -1250.0   \n",
       "3040    2021   2021_07_DET_LA       REG   LAR   DET          -1256.0   \n",
       "\n",
       "      team2_moneyline  sandbox_elo1  sandbox_elo2    qb_elo1    qb_elo2  \\\n",
       "3201          -1000.0   1299.431127   1651.085277  -9.874232  -9.368780   \n",
       "3199           -195.0   1390.461147   1720.525171  -6.564883  13.210138   \n",
       "3098            377.0   1672.953927   1418.138039  -7.952079 -24.011610   \n",
       "3066          -1101.0   1355.934783   1699.588741   0.493690  -6.082155   \n",
       "2994            286.0   1655.128681   1456.418261  -2.066445  16.438994   \n",
       "...               ...           ...           ...        ...        ...   \n",
       "3139            321.0   1612.733511   1342.612145  -8.047728   7.804845   \n",
       "3145            498.0   1688.439053   1501.090294  12.431333 -20.183866   \n",
       "3184            727.0   1615.007346   1303.914875   0.009308   1.298044   \n",
       "3206            750.0   1679.636237   1389.326128  -2.637495 -15.363980   \n",
       "3040            860.0   1643.336679   1383.244522  47.047373 -25.842947   \n",
       "\n",
       "        qb_val1    qb_val2  rest_adjustment  sandbox_pred1  result1  score  \\\n",
       "3201  -6.815817   0.161873              0.0       0.153087      1.0 -47.25   \n",
       "3199  -4.323080  10.861949              0.0       0.154827      1.0 -47.25   \n",
       "3098   4.905255  -2.429294            -25.0       0.849665      0.0 -47.25   \n",
       "3066  -4.208421   7.991095              0.0       0.164685      1.0 -45.56   \n",
       "2994   3.973714   2.685251              0.0       0.794774      0.0 -37.41   \n",
       "...         ...        ...              ...            ...      ...    ...   \n",
       "3139   3.765084  -2.734438             25.0       0.872607      1.0  23.31   \n",
       "3145  10.885722  -6.367779             25.0       0.869826      1.0  23.31   \n",
       "3184   2.417817  -4.761598              0.0       0.890901      1.0  23.79   \n",
       "3206   5.310258  -6.728464              0.0       0.887057      1.0  23.79   \n",
       "3040  11.799004  -5.753438              0.0       0.903210      1.0  24.00   \n",
       "\n",
       "      grier_score  bet_payout  \n",
       "3201     0.717261    6.500000  \n",
       "3199     0.714317   -1.000000  \n",
       "3098     0.721931   -1.000000  \n",
       "3066     0.697751    7.760000  \n",
       "2994     0.631666   -1.000000  \n",
       "...           ...         ...  \n",
       "3139     0.016229    0.260417  \n",
       "3145     0.016945    0.000000  \n",
       "3184     0.011903    0.000000  \n",
       "3206     0.012756    0.000000  \n",
       "3040     0.009368    0.000000  \n",
       "\n",
       "[272 rows x 19 columns]"
      ]
     },
     "execution_count": 11,
     "metadata": {},
     "output_type": "execute_result"
    }
   ],
   "source": [
    "# Biggest losses\n",
    "sand_pred[(sand_pred['season']==2021)&(sand_pred['game_type']=='REG')].sort_values('score')"
   ]
  },
  {
   "cell_type": "code",
   "execution_count": 12,
   "metadata": {},
   "outputs": [
    {
     "data": {
      "text/html": [
       "<div>\n",
       "<style scoped>\n",
       "    .dataframe tbody tr th:only-of-type {\n",
       "        vertical-align: middle;\n",
       "    }\n",
       "\n",
       "    .dataframe tbody tr th {\n",
       "        vertical-align: top;\n",
       "    }\n",
       "\n",
       "    .dataframe thead th {\n",
       "        text-align: right;\n",
       "    }\n",
       "</style>\n",
       "<table border=\"1\" class=\"dataframe\">\n",
       "  <thead>\n",
       "    <tr style=\"text-align: right;\">\n",
       "      <th></th>\n",
       "      <th>season</th>\n",
       "      <th>game_id</th>\n",
       "      <th>game_type</th>\n",
       "      <th>team1</th>\n",
       "      <th>team2</th>\n",
       "      <th>team1_moneyline</th>\n",
       "      <th>team2_moneyline</th>\n",
       "      <th>sandbox_elo1</th>\n",
       "      <th>sandbox_elo2</th>\n",
       "      <th>qb_elo1</th>\n",
       "      <th>qb_elo2</th>\n",
       "      <th>qb_val1</th>\n",
       "      <th>qb_val2</th>\n",
       "      <th>rest_adjustment</th>\n",
       "      <th>sandbox_pred1</th>\n",
       "      <th>result1</th>\n",
       "      <th>score</th>\n",
       "      <th>grier_score</th>\n",
       "      <th>bet_payout</th>\n",
       "      <th>implied_prob1</th>\n",
       "      <th>diff_to_vegas1</th>\n",
       "    </tr>\n",
       "  </thead>\n",
       "  <tbody>\n",
       "    <tr>\n",
       "      <th>2971</th>\n",
       "      <td>2021</td>\n",
       "      <td>2021_03_CAR_HOU</td>\n",
       "      <td>REG</td>\n",
       "      <td>HOU</td>\n",
       "      <td>CAR</td>\n",
       "      <td>348.0</td>\n",
       "      <td>-420.0</td>\n",
       "      <td>1497.947121</td>\n",
       "      <td>1532.077808</td>\n",
       "      <td>0.000000</td>\n",
       "      <td>-21.863331</td>\n",
       "      <td>NaN</td>\n",
       "      <td>-1.463703</td>\n",
       "      <td>0.000000</td>\n",
       "      <td>0.603168</td>\n",
       "      <td>0.0</td>\n",
       "      <td>-11.00</td>\n",
       "      <td>0.363812</td>\n",
       "      <td>-1.00</td>\n",
       "      <td>0.223214</td>\n",
       "      <td>0.379954</td>\n",
       "    </tr>\n",
       "    <tr>\n",
       "      <th>3119</th>\n",
       "      <td>2021</td>\n",
       "      <td>2021_13_DAL_NO</td>\n",
       "      <td>REG</td>\n",
       "      <td>NO</td>\n",
       "      <td>DAL</td>\n",
       "      <td>222.0</td>\n",
       "      <td>-254.0</td>\n",
       "      <td>1586.204190</td>\n",
       "      <td>1530.947115</td>\n",
       "      <td>0.000000</td>\n",
       "      <td>7.779489</td>\n",
       "      <td>NaN</td>\n",
       "      <td>4.470818</td>\n",
       "      <td>0.000000</td>\n",
       "      <td>0.681918</td>\n",
       "      <td>0.0</td>\n",
       "      <td>-21.24</td>\n",
       "      <td>0.465013</td>\n",
       "      <td>-1.00</td>\n",
       "      <td>0.310559</td>\n",
       "      <td>0.371359</td>\n",
       "    </tr>\n",
       "    <tr>\n",
       "      <th>3168</th>\n",
       "      <td>2021</td>\n",
       "      <td>2021_16_BAL_CIN</td>\n",
       "      <td>REG</td>\n",
       "      <td>CIN</td>\n",
       "      <td>BAL</td>\n",
       "      <td>-369.0</td>\n",
       "      <td>306.0</td>\n",
       "      <td>1524.159870</td>\n",
       "      <td>1598.518938</td>\n",
       "      <td>-3.240981</td>\n",
       "      <td>-3.413288</td>\n",
       "      <td>1.103655</td>\n",
       "      <td>-0.181537</td>\n",
       "      <td>0.000000</td>\n",
       "      <td>0.472416</td>\n",
       "      <td>1.0</td>\n",
       "      <td>-3.09</td>\n",
       "      <td>0.278345</td>\n",
       "      <td>-1.00</td>\n",
       "      <td>0.786780</td>\n",
       "      <td>0.314364</td>\n",
       "    </tr>\n",
       "    <tr>\n",
       "      <th>3071</th>\n",
       "      <td>2021</td>\n",
       "      <td>2021_09_GB_KC</td>\n",
       "      <td>REG</td>\n",
       "      <td>KC</td>\n",
       "      <td>GB</td>\n",
       "      <td>-322.0</td>\n",
       "      <td>275.0</td>\n",
       "      <td>1637.943689</td>\n",
       "      <td>1709.128891</td>\n",
       "      <td>4.423001</td>\n",
       "      <td>0.000000</td>\n",
       "      <td>9.847974</td>\n",
       "      <td>NaN</td>\n",
       "      <td>-14.285714</td>\n",
       "      <td>0.462584</td>\n",
       "      <td>1.0</td>\n",
       "      <td>-4.16</td>\n",
       "      <td>0.288816</td>\n",
       "      <td>-1.00</td>\n",
       "      <td>0.763033</td>\n",
       "      <td>0.300449</td>\n",
       "    </tr>\n",
       "    <tr>\n",
       "      <th>3159</th>\n",
       "      <td>2021</td>\n",
       "      <td>2021_15_LV_CLE</td>\n",
       "      <td>REG</td>\n",
       "      <td>CLE</td>\n",
       "      <td>LV</td>\n",
       "      <td>131.0</td>\n",
       "      <td>-147.0</td>\n",
       "      <td>1602.206447</td>\n",
       "      <td>1510.880994</td>\n",
       "      <td>-9.590537</td>\n",
       "      <td>-22.594096</td>\n",
       "      <td>0.315081</td>\n",
       "      <td>-0.326401</td>\n",
       "      <td>0.000000</td>\n",
       "      <td>0.714465</td>\n",
       "      <td>0.0</td>\n",
       "      <td>-25.41</td>\n",
       "      <td>0.510461</td>\n",
       "      <td>-1.00</td>\n",
       "      <td>0.432900</td>\n",
       "      <td>0.281565</td>\n",
       "    </tr>\n",
       "    <tr>\n",
       "      <th>3196</th>\n",
       "      <td>2021</td>\n",
       "      <td>2021_18_DAL_PHI</td>\n",
       "      <td>REG</td>\n",
       "      <td>PHI</td>\n",
       "      <td>DAL</td>\n",
       "      <td>235.0</td>\n",
       "      <td>-300.0</td>\n",
       "      <td>1545.514290</td>\n",
       "      <td>1586.251757</td>\n",
       "      <td>4.009948</td>\n",
       "      <td>-7.469100</td>\n",
       "      <td>2.402140</td>\n",
       "      <td>0.710147</td>\n",
       "      <td>0.000000</td>\n",
       "      <td>0.579537</td>\n",
       "      <td>0.0</td>\n",
       "      <td>-8.64</td>\n",
       "      <td>0.335864</td>\n",
       "      <td>-1.00</td>\n",
       "      <td>0.298507</td>\n",
       "      <td>0.281030</td>\n",
       "    </tr>\n",
       "    <tr>\n",
       "      <th>3140</th>\n",
       "      <td>2021</td>\n",
       "      <td>2021_14_DAL_WAS</td>\n",
       "      <td>REG</td>\n",
       "      <td>WAS</td>\n",
       "      <td>DAL</td>\n",
       "      <td>246.0</td>\n",
       "      <td>-284.0</td>\n",
       "      <td>1524.247823</td>\n",
       "      <td>1559.117897</td>\n",
       "      <td>17.679530</td>\n",
       "      <td>-1.191686</td>\n",
       "      <td>3.274287</td>\n",
       "      <td>1.988286</td>\n",
       "      <td>-10.714286</td>\n",
       "      <td>0.540618</td>\n",
       "      <td>0.0</td>\n",
       "      <td>-4.16</td>\n",
       "      <td>0.292268</td>\n",
       "      <td>-1.00</td>\n",
       "      <td>0.289017</td>\n",
       "      <td>0.251601</td>\n",
       "    </tr>\n",
       "    <tr>\n",
       "      <th>2945</th>\n",
       "      <td>2021</td>\n",
       "      <td>2021_01_JAX_HOU</td>\n",
       "      <td>REG</td>\n",
       "      <td>HOU</td>\n",
       "      <td>JAX</td>\n",
       "      <td>154.0</td>\n",
       "      <td>-172.0</td>\n",
       "      <td>1490.284166</td>\n",
       "      <td>1399.531937</td>\n",
       "      <td>-42.123534</td>\n",
       "      <td>0.000000</td>\n",
       "      <td>-1.859976</td>\n",
       "      <td>NaN</td>\n",
       "      <td>0.000000</td>\n",
       "      <td>0.644863</td>\n",
       "      <td>1.0</td>\n",
       "      <td>12.04</td>\n",
       "      <td>0.126122</td>\n",
       "      <td>1.54</td>\n",
       "      <td>0.393701</td>\n",
       "      <td>0.251162</td>\n",
       "    </tr>\n",
       "    <tr>\n",
       "      <th>3178</th>\n",
       "      <td>2021</td>\n",
       "      <td>2021_16_MIA_NO</td>\n",
       "      <td>REG</td>\n",
       "      <td>NO</td>\n",
       "      <td>MIA</td>\n",
       "      <td>143.0</td>\n",
       "      <td>-160.0</td>\n",
       "      <td>1602.669928</td>\n",
       "      <td>1559.567022</td>\n",
       "      <td>0.000000</td>\n",
       "      <td>13.159823</td>\n",
       "      <td>NaN</td>\n",
       "      <td>1.257007</td>\n",
       "      <td>0.000000</td>\n",
       "      <td>0.659634</td>\n",
       "      <td>0.0</td>\n",
       "      <td>-18.56</td>\n",
       "      <td>0.435118</td>\n",
       "      <td>-1.00</td>\n",
       "      <td>0.411523</td>\n",
       "      <td>0.248112</td>\n",
       "    </tr>\n",
       "    <tr>\n",
       "      <th>3089</th>\n",
       "      <td>2021</td>\n",
       "      <td>2021_11_NE_ATL</td>\n",
       "      <td>REG</td>\n",
       "      <td>ATL</td>\n",
       "      <td>NE</td>\n",
       "      <td>280.0</td>\n",
       "      <td>-329.0</td>\n",
       "      <td>1520.458017</td>\n",
       "      <td>1595.792245</td>\n",
       "      <td>5.431762</td>\n",
       "      <td>8.724697</td>\n",
       "      <td>3.673074</td>\n",
       "      <td>3.223663</td>\n",
       "      <td>0.000000</td>\n",
       "      <td>0.509170</td>\n",
       "      <td>0.0</td>\n",
       "      <td>-1.01</td>\n",
       "      <td>0.259254</td>\n",
       "      <td>-1.00</td>\n",
       "      <td>0.263158</td>\n",
       "      <td>0.246012</td>\n",
       "    </tr>\n",
       "    <tr>\n",
       "      <th>3163</th>\n",
       "      <td>2021</td>\n",
       "      <td>2021_16_SF_TEN</td>\n",
       "      <td>REG</td>\n",
       "      <td>TEN</td>\n",
       "      <td>SF</td>\n",
       "      <td>154.0</td>\n",
       "      <td>-171.0</td>\n",
       "      <td>1605.972576</td>\n",
       "      <td>1575.187908</td>\n",
       "      <td>-6.508879</td>\n",
       "      <td>11.790163</td>\n",
       "      <td>1.811120</td>\n",
       "      <td>4.875678</td>\n",
       "      <td>0.000000</td>\n",
       "      <td>0.636724</td>\n",
       "      <td>1.0</td>\n",
       "      <td>12.04</td>\n",
       "      <td>0.131970</td>\n",
       "      <td>1.54</td>\n",
       "      <td>0.393701</td>\n",
       "      <td>0.243023</td>\n",
       "    </tr>\n",
       "    <tr>\n",
       "      <th>3160</th>\n",
       "      <td>2021</td>\n",
       "      <td>2021_15_MIN_CHI</td>\n",
       "      <td>REG</td>\n",
       "      <td>CHI</td>\n",
       "      <td>MIN</td>\n",
       "      <td>274.0</td>\n",
       "      <td>-320.0</td>\n",
       "      <td>1496.670086</td>\n",
       "      <td>1559.443540</td>\n",
       "      <td>-19.061830</td>\n",
       "      <td>-13.509213</td>\n",
       "      <td>-6.385248</td>\n",
       "      <td>1.109627</td>\n",
       "      <td>-10.714286</td>\n",
       "      <td>0.508576</td>\n",
       "      <td>0.0</td>\n",
       "      <td>-1.01</td>\n",
       "      <td>0.258649</td>\n",
       "      <td>-1.00</td>\n",
       "      <td>0.267380</td>\n",
       "      <td>0.241196</td>\n",
       "    </tr>\n",
       "    <tr>\n",
       "      <th>3007</th>\n",
       "      <td>2021</td>\n",
       "      <td>2021_05_NE_HOU</td>\n",
       "      <td>REG</td>\n",
       "      <td>HOU</td>\n",
       "      <td>NE</td>\n",
       "      <td>288.0</td>\n",
       "      <td>-339.0</td>\n",
       "      <td>1465.626464</td>\n",
       "      <td>1523.912959</td>\n",
       "      <td>0.000000</td>\n",
       "      <td>5.245852</td>\n",
       "      <td>NaN</td>\n",
       "      <td>1.253740</td>\n",
       "      <td>0.000000</td>\n",
       "      <td>0.487723</td>\n",
       "      <td>0.0</td>\n",
       "      <td>0.99</td>\n",
       "      <td>0.237874</td>\n",
       "      <td>-1.00</td>\n",
       "      <td>0.257732</td>\n",
       "      <td>0.229991</td>\n",
       "    </tr>\n",
       "    <tr>\n",
       "      <th>3199</th>\n",
       "      <td>2021</td>\n",
       "      <td>2021_18_GB_DET</td>\n",
       "      <td>REG</td>\n",
       "      <td>DET</td>\n",
       "      <td>GB</td>\n",
       "      <td>165.0</td>\n",
       "      <td>-195.0</td>\n",
       "      <td>1390.461147</td>\n",
       "      <td>1720.525171</td>\n",
       "      <td>-6.564883</td>\n",
       "      <td>13.210138</td>\n",
       "      <td>-4.323080</td>\n",
       "      <td>10.861949</td>\n",
       "      <td>0.000000</td>\n",
       "      <td>0.154827</td>\n",
       "      <td>1.0</td>\n",
       "      <td>-47.25</td>\n",
       "      <td>0.714317</td>\n",
       "      <td>-1.00</td>\n",
       "      <td>0.377358</td>\n",
       "      <td>0.222531</td>\n",
       "    </tr>\n",
       "    <tr>\n",
       "      <th>3049</th>\n",
       "      <td>2021</td>\n",
       "      <td>2021_08_SF_CHI</td>\n",
       "      <td>REG</td>\n",
       "      <td>CHI</td>\n",
       "      <td>SF</td>\n",
       "      <td>186.0</td>\n",
       "      <td>-210.0</td>\n",
       "      <td>1549.612330</td>\n",
       "      <td>1503.787949</td>\n",
       "      <td>-42.085353</td>\n",
       "      <td>8.812015</td>\n",
       "      <td>-12.271959</td>\n",
       "      <td>4.275818</td>\n",
       "      <td>0.000000</td>\n",
       "      <td>0.571360</td>\n",
       "      <td>0.0</td>\n",
       "      <td>-7.49</td>\n",
       "      <td>0.326453</td>\n",
       "      <td>-1.00</td>\n",
       "      <td>0.349650</td>\n",
       "      <td>0.221710</td>\n",
       "    </tr>\n",
       "    <tr>\n",
       "      <th>3072</th>\n",
       "      <td>2021</td>\n",
       "      <td>2021_09_ARI_SF</td>\n",
       "      <td>REG</td>\n",
       "      <td>SF</td>\n",
       "      <td>ARI</td>\n",
       "      <td>-235.0</td>\n",
       "      <td>207.0</td>\n",
       "      <td>1520.543456</td>\n",
       "      <td>1636.657413</td>\n",
       "      <td>9.816453</td>\n",
       "      <td>-49.110097</td>\n",
       "      <td>4.255031</td>\n",
       "      <td>-3.867266</td>\n",
       "      <td>-10.714286</td>\n",
       "      <td>0.481442</td>\n",
       "      <td>0.0</td>\n",
       "      <td>1.96</td>\n",
       "      <td>0.231786</td>\n",
       "      <td>2.07</td>\n",
       "      <td>0.701493</td>\n",
       "      <td>0.220051</td>\n",
       "    </tr>\n",
       "    <tr>\n",
       "      <th>3106</th>\n",
       "      <td>2021</td>\n",
       "      <td>2021_12_BUF_NO</td>\n",
       "      <td>REG</td>\n",
       "      <td>NO</td>\n",
       "      <td>BUF</td>\n",
       "      <td>235.0</td>\n",
       "      <td>-270.0</td>\n",
       "      <td>1610.161876</td>\n",
       "      <td>1647.166347</td>\n",
       "      <td>-40.795716</td>\n",
       "      <td>-5.487868</td>\n",
       "      <td>-6.400358</td>\n",
       "      <td>6.172274</td>\n",
       "      <td>0.000000</td>\n",
       "      <td>0.518251</td>\n",
       "      <td>0.0</td>\n",
       "      <td>-2.04</td>\n",
       "      <td>0.268584</td>\n",
       "      <td>-1.00</td>\n",
       "      <td>0.298507</td>\n",
       "      <td>0.219743</td>\n",
       "    </tr>\n",
       "    <tr>\n",
       "      <th>3203</th>\n",
       "      <td>2021</td>\n",
       "      <td>2021_18_WAS_NYG</td>\n",
       "      <td>REG</td>\n",
       "      <td>NYG</td>\n",
       "      <td>WAS</td>\n",
       "      <td>206.0</td>\n",
       "      <td>-238.0</td>\n",
       "      <td>1423.572162</td>\n",
       "      <td>1462.897089</td>\n",
       "      <td>0.000000</td>\n",
       "      <td>-16.713056</td>\n",
       "      <td>NaN</td>\n",
       "      <td>-3.556710</td>\n",
       "      <td>0.000000</td>\n",
       "      <td>0.546476</td>\n",
       "      <td>0.0</td>\n",
       "      <td>-5.25</td>\n",
       "      <td>0.298636</td>\n",
       "      <td>-1.00</td>\n",
       "      <td>0.326797</td>\n",
       "      <td>0.219678</td>\n",
       "    </tr>\n",
       "    <tr>\n",
       "      <th>3210</th>\n",
       "      <td>2021</td>\n",
       "      <td>2021_18_LAC_LV</td>\n",
       "      <td>REG</td>\n",
       "      <td>LV</td>\n",
       "      <td>LAC</td>\n",
       "      <td>155.0</td>\n",
       "      <td>-180.0</td>\n",
       "      <td>1570.067709</td>\n",
       "      <td>1559.730383</td>\n",
       "      <td>-21.496992</td>\n",
       "      <td>-4.394220</td>\n",
       "      <td>-1.061365</td>\n",
       "      <td>6.015373</td>\n",
       "      <td>0.000000</td>\n",
       "      <td>0.610723</td>\n",
       "      <td>1.0</td>\n",
       "      <td>9.79</td>\n",
       "      <td>0.151536</td>\n",
       "      <td>1.55</td>\n",
       "      <td>0.392157</td>\n",
       "      <td>0.218567</td>\n",
       "    </tr>\n",
       "    <tr>\n",
       "      <th>3153</th>\n",
       "      <td>2021</td>\n",
       "      <td>2021_15_DAL_NYG</td>\n",
       "      <td>REG</td>\n",
       "      <td>NYG</td>\n",
       "      <td>DAL</td>\n",
       "      <td>428.0</td>\n",
       "      <td>-534.0</td>\n",
       "      <td>1467.479014</td>\n",
       "      <td>1584.557230</td>\n",
       "      <td>-9.426459</td>\n",
       "      <td>-4.749284</td>\n",
       "      <td>-5.851226</td>\n",
       "      <td>0.515396</td>\n",
       "      <td>0.000000</td>\n",
       "      <td>0.405096</td>\n",
       "      <td>0.0</td>\n",
       "      <td>8.19</td>\n",
       "      <td>0.164103</td>\n",
       "      <td>-1.00</td>\n",
       "      <td>0.189394</td>\n",
       "      <td>0.215702</td>\n",
       "    </tr>\n",
       "  </tbody>\n",
       "</table>\n",
       "</div>"
      ],
      "text/plain": [
       "      season          game_id game_type team1 team2  team1_moneyline  \\\n",
       "2971    2021  2021_03_CAR_HOU       REG   HOU   CAR            348.0   \n",
       "3119    2021   2021_13_DAL_NO       REG    NO   DAL            222.0   \n",
       "3168    2021  2021_16_BAL_CIN       REG   CIN   BAL           -369.0   \n",
       "3071    2021    2021_09_GB_KC       REG    KC    GB           -322.0   \n",
       "3159    2021   2021_15_LV_CLE       REG   CLE    LV            131.0   \n",
       "3196    2021  2021_18_DAL_PHI       REG   PHI   DAL            235.0   \n",
       "3140    2021  2021_14_DAL_WAS       REG   WAS   DAL            246.0   \n",
       "2945    2021  2021_01_JAX_HOU       REG   HOU   JAX            154.0   \n",
       "3178    2021   2021_16_MIA_NO       REG    NO   MIA            143.0   \n",
       "3089    2021   2021_11_NE_ATL       REG   ATL    NE            280.0   \n",
       "3163    2021   2021_16_SF_TEN       REG   TEN    SF            154.0   \n",
       "3160    2021  2021_15_MIN_CHI       REG   CHI   MIN            274.0   \n",
       "3007    2021   2021_05_NE_HOU       REG   HOU    NE            288.0   \n",
       "3199    2021   2021_18_GB_DET       REG   DET    GB            165.0   \n",
       "3049    2021   2021_08_SF_CHI       REG   CHI    SF            186.0   \n",
       "3072    2021   2021_09_ARI_SF       REG    SF   ARI           -235.0   \n",
       "3106    2021   2021_12_BUF_NO       REG    NO   BUF            235.0   \n",
       "3203    2021  2021_18_WAS_NYG       REG   NYG   WAS            206.0   \n",
       "3210    2021   2021_18_LAC_LV       REG    LV   LAC            155.0   \n",
       "3153    2021  2021_15_DAL_NYG       REG   NYG   DAL            428.0   \n",
       "\n",
       "      team2_moneyline  sandbox_elo1  sandbox_elo2    qb_elo1    qb_elo2  \\\n",
       "2971           -420.0   1497.947121   1532.077808   0.000000 -21.863331   \n",
       "3119           -254.0   1586.204190   1530.947115   0.000000   7.779489   \n",
       "3168            306.0   1524.159870   1598.518938  -3.240981  -3.413288   \n",
       "3071            275.0   1637.943689   1709.128891   4.423001   0.000000   \n",
       "3159           -147.0   1602.206447   1510.880994  -9.590537 -22.594096   \n",
       "3196           -300.0   1545.514290   1586.251757   4.009948  -7.469100   \n",
       "3140           -284.0   1524.247823   1559.117897  17.679530  -1.191686   \n",
       "2945           -172.0   1490.284166   1399.531937 -42.123534   0.000000   \n",
       "3178           -160.0   1602.669928   1559.567022   0.000000  13.159823   \n",
       "3089           -329.0   1520.458017   1595.792245   5.431762   8.724697   \n",
       "3163           -171.0   1605.972576   1575.187908  -6.508879  11.790163   \n",
       "3160           -320.0   1496.670086   1559.443540 -19.061830 -13.509213   \n",
       "3007           -339.0   1465.626464   1523.912959   0.000000   5.245852   \n",
       "3199           -195.0   1390.461147   1720.525171  -6.564883  13.210138   \n",
       "3049           -210.0   1549.612330   1503.787949 -42.085353   8.812015   \n",
       "3072            207.0   1520.543456   1636.657413   9.816453 -49.110097   \n",
       "3106           -270.0   1610.161876   1647.166347 -40.795716  -5.487868   \n",
       "3203           -238.0   1423.572162   1462.897089   0.000000 -16.713056   \n",
       "3210           -180.0   1570.067709   1559.730383 -21.496992  -4.394220   \n",
       "3153           -534.0   1467.479014   1584.557230  -9.426459  -4.749284   \n",
       "\n",
       "        qb_val1    qb_val2  rest_adjustment  sandbox_pred1  result1  score  \\\n",
       "2971        NaN  -1.463703         0.000000       0.603168      0.0 -11.00   \n",
       "3119        NaN   4.470818         0.000000       0.681918      0.0 -21.24   \n",
       "3168   1.103655  -0.181537         0.000000       0.472416      1.0  -3.09   \n",
       "3071   9.847974        NaN       -14.285714       0.462584      1.0  -4.16   \n",
       "3159   0.315081  -0.326401         0.000000       0.714465      0.0 -25.41   \n",
       "3196   2.402140   0.710147         0.000000       0.579537      0.0  -8.64   \n",
       "3140   3.274287   1.988286       -10.714286       0.540618      0.0  -4.16   \n",
       "2945  -1.859976        NaN         0.000000       0.644863      1.0  12.04   \n",
       "3178        NaN   1.257007         0.000000       0.659634      0.0 -18.56   \n",
       "3089   3.673074   3.223663         0.000000       0.509170      0.0  -1.01   \n",
       "3163   1.811120   4.875678         0.000000       0.636724      1.0  12.04   \n",
       "3160  -6.385248   1.109627       -10.714286       0.508576      0.0  -1.01   \n",
       "3007        NaN   1.253740         0.000000       0.487723      0.0   0.99   \n",
       "3199  -4.323080  10.861949         0.000000       0.154827      1.0 -47.25   \n",
       "3049 -12.271959   4.275818         0.000000       0.571360      0.0  -7.49   \n",
       "3072   4.255031  -3.867266       -10.714286       0.481442      0.0   1.96   \n",
       "3106  -6.400358   6.172274         0.000000       0.518251      0.0  -2.04   \n",
       "3203        NaN  -3.556710         0.000000       0.546476      0.0  -5.25   \n",
       "3210  -1.061365   6.015373         0.000000       0.610723      1.0   9.79   \n",
       "3153  -5.851226   0.515396         0.000000       0.405096      0.0   8.19   \n",
       "\n",
       "      grier_score  bet_payout  implied_prob1  diff_to_vegas1  \n",
       "2971     0.363812       -1.00       0.223214        0.379954  \n",
       "3119     0.465013       -1.00       0.310559        0.371359  \n",
       "3168     0.278345       -1.00       0.786780        0.314364  \n",
       "3071     0.288816       -1.00       0.763033        0.300449  \n",
       "3159     0.510461       -1.00       0.432900        0.281565  \n",
       "3196     0.335864       -1.00       0.298507        0.281030  \n",
       "3140     0.292268       -1.00       0.289017        0.251601  \n",
       "2945     0.126122        1.54       0.393701        0.251162  \n",
       "3178     0.435118       -1.00       0.411523        0.248112  \n",
       "3089     0.259254       -1.00       0.263158        0.246012  \n",
       "3163     0.131970        1.54       0.393701        0.243023  \n",
       "3160     0.258649       -1.00       0.267380        0.241196  \n",
       "3007     0.237874       -1.00       0.257732        0.229991  \n",
       "3199     0.714317       -1.00       0.377358        0.222531  \n",
       "3049     0.326453       -1.00       0.349650        0.221710  \n",
       "3072     0.231786        2.07       0.701493        0.220051  \n",
       "3106     0.268584       -1.00       0.298507        0.219743  \n",
       "3203     0.298636       -1.00       0.326797        0.219678  \n",
       "3210     0.151536        1.55       0.392157        0.218567  \n",
       "3153     0.164103       -1.00       0.189394        0.215702  "
      ]
     },
     "execution_count": 12,
     "metadata": {},
     "output_type": "execute_result"
    }
   ],
   "source": [
    "# Biggest betting misses\n",
    "sand_pred['implied_prob1'] = sand_pred['team1_moneyline'].apply(util.odds_to_implied_prob)\n",
    "sand_pred['diff_to_vegas1'] = (sand_pred['sandbox_pred1'] - sand_pred['implied_prob1']).abs()\n",
    "sand_pred[(sand_pred['season']==2021)&(sand_pred['game_type']=='REG')].sort_values('diff_to_vegas1', ascending=False).head(20)"
   ]
  },
  {
   "cell_type": "code",
   "execution_count": 13,
   "metadata": {},
   "outputs": [
    {
     "data": {
      "text/plain": [
       "team\n",
       "NYG    -9.900000\n",
       "ATL    -9.866840\n",
       "CAR    -9.530000\n",
       "PHI    -6.810678\n",
       "LAR    -5.380000\n",
       "MIN    -4.850000\n",
       "KC     -4.615333\n",
       "NE     -4.232569\n",
       "HOU    -4.220000\n",
       "WAS    -3.925850\n",
       "SF     -2.960000\n",
       "CHI    -1.925480\n",
       "MIA    -1.885281\n",
       "NYJ    -0.636222\n",
       "TB     -0.560000\n",
       "CLE    -0.352528\n",
       "DET    -0.257426\n",
       "CIN     0.374755\n",
       "PIT     1.391595\n",
       "SEA     1.676071\n",
       "LAC     2.365806\n",
       "DAL     2.396269\n",
       "NO      2.734967\n",
       "BUF     2.903030\n",
       "GB      3.944883\n",
       "BAL     4.614334\n",
       "ARI     5.120000\n",
       "DEN     5.135236\n",
       "IND     8.558330\n",
       "LV     10.866318\n",
       "TEN    10.884249\n",
       "JAX    18.282472\n",
       "Name: bet_payout, dtype: float64"
      ]
     },
     "execution_count": 13,
     "metadata": {},
     "output_type": "execute_result"
    }
   ],
   "source": [
    "pd.concat([sand_pred[(sand_pred['season']==2021)&(sand_pred['game_type']=='REG')].rename(columns={'team1':'team'}),\n",
    "           sand_pred[(sand_pred['season']==2021)&(sand_pred['game_type']=='REG')].rename(columns={'team2':'team'})]\n",
    "           ).groupby('team')['bet_payout'].sum().sort_values()\n",
    "          "
   ]
  },
  {
   "cell_type": "code",
   "execution_count": 14,
   "metadata": {},
   "outputs": [
    {
     "data": {
      "application/vnd.plotly.v1+json": {
       "config": {
        "plotlyServerURL": "https://plot.ly"
       },
       "data": [
        {
         "alignmentgroup": "True",
         "hovertemplate": "variable=bet_payout<br>team=%{x}<br>value=%{y}<extra></extra>",
         "legendgroup": "bet_payout",
         "marker": {
          "color": "#636efa",
          "pattern": {
           "shape": ""
          }
         },
         "name": "bet_payout",
         "offsetgroup": "bet_payout",
         "orientation": "v",
         "showlegend": true,
         "textposition": "auto",
         "type": "bar",
         "x": [
          "JAX",
          "LV",
          "TEN",
          "GB",
          "NO",
          "ARI",
          "IND",
          "DEN",
          "PIT",
          "DAL",
          "MIA",
          "CLE",
          "WAS",
          "SF",
          "CIN",
          "BUF",
          "BAL",
          "NYJ",
          "DET",
          "LAC",
          "CHI",
          "KC",
          "LAR",
          "SEA",
          "PHI",
          "MIN",
          "NE",
          "HOU",
          "ATL",
          "NYG",
          "CAR"
         ],
         "xaxis": "x",
         "y": [
          12.26,
          10.716318082788671,
          9.824248984934288,
          4.32488338446242,
          4.054694686756543,
          3.32,
          2.08743119266055,
          2.05,
          2.019275766016713,
          1.93,
          1.1147191011235955,
          -0.003553719008264622,
          -0.2500000000000002,
          -0.41999999999999993,
          -0.5119034852546918,
          -0.696969696969697,
          -0.8756658440156475,
          -1.0299999999999991,
          -1.0499999999999998,
          -1.0566037735849056,
          -1.925479732223918,
          -1.9953334104670446,
          -2,
          -2.2291666666666665,
          -2.3899999999999997,
          -3,
          -3,
          -3.2199999999999998,
          -7.476840011366866,
          -7.9,
          -8
         ],
         "yaxis": "y"
        }
       ],
       "layout": {
        "barmode": "relative",
        "legend": {
         "title": {
          "text": "variable"
         },
         "tracegroupgap": 0
        },
        "template": {
         "data": {
          "bar": [
           {
            "error_x": {
             "color": "#2a3f5f"
            },
            "error_y": {
             "color": "#2a3f5f"
            },
            "marker": {
             "line": {
              "color": "#E5ECF6",
              "width": 0.5
             },
             "pattern": {
              "fillmode": "overlay",
              "size": 10,
              "solidity": 0.2
             }
            },
            "type": "bar"
           }
          ],
          "barpolar": [
           {
            "marker": {
             "line": {
              "color": "#E5ECF6",
              "width": 0.5
             },
             "pattern": {
              "fillmode": "overlay",
              "size": 10,
              "solidity": 0.2
             }
            },
            "type": "barpolar"
           }
          ],
          "carpet": [
           {
            "aaxis": {
             "endlinecolor": "#2a3f5f",
             "gridcolor": "white",
             "linecolor": "white",
             "minorgridcolor": "white",
             "startlinecolor": "#2a3f5f"
            },
            "baxis": {
             "endlinecolor": "#2a3f5f",
             "gridcolor": "white",
             "linecolor": "white",
             "minorgridcolor": "white",
             "startlinecolor": "#2a3f5f"
            },
            "type": "carpet"
           }
          ],
          "choropleth": [
           {
            "colorbar": {
             "outlinewidth": 0,
             "ticks": ""
            },
            "type": "choropleth"
           }
          ],
          "contour": [
           {
            "colorbar": {
             "outlinewidth": 0,
             "ticks": ""
            },
            "colorscale": [
             [
              0,
              "#0d0887"
             ],
             [
              0.1111111111111111,
              "#46039f"
             ],
             [
              0.2222222222222222,
              "#7201a8"
             ],
             [
              0.3333333333333333,
              "#9c179e"
             ],
             [
              0.4444444444444444,
              "#bd3786"
             ],
             [
              0.5555555555555556,
              "#d8576b"
             ],
             [
              0.6666666666666666,
              "#ed7953"
             ],
             [
              0.7777777777777778,
              "#fb9f3a"
             ],
             [
              0.8888888888888888,
              "#fdca26"
             ],
             [
              1,
              "#f0f921"
             ]
            ],
            "type": "contour"
           }
          ],
          "contourcarpet": [
           {
            "colorbar": {
             "outlinewidth": 0,
             "ticks": ""
            },
            "type": "contourcarpet"
           }
          ],
          "heatmap": [
           {
            "colorbar": {
             "outlinewidth": 0,
             "ticks": ""
            },
            "colorscale": [
             [
              0,
              "#0d0887"
             ],
             [
              0.1111111111111111,
              "#46039f"
             ],
             [
              0.2222222222222222,
              "#7201a8"
             ],
             [
              0.3333333333333333,
              "#9c179e"
             ],
             [
              0.4444444444444444,
              "#bd3786"
             ],
             [
              0.5555555555555556,
              "#d8576b"
             ],
             [
              0.6666666666666666,
              "#ed7953"
             ],
             [
              0.7777777777777778,
              "#fb9f3a"
             ],
             [
              0.8888888888888888,
              "#fdca26"
             ],
             [
              1,
              "#f0f921"
             ]
            ],
            "type": "heatmap"
           }
          ],
          "heatmapgl": [
           {
            "colorbar": {
             "outlinewidth": 0,
             "ticks": ""
            },
            "colorscale": [
             [
              0,
              "#0d0887"
             ],
             [
              0.1111111111111111,
              "#46039f"
             ],
             [
              0.2222222222222222,
              "#7201a8"
             ],
             [
              0.3333333333333333,
              "#9c179e"
             ],
             [
              0.4444444444444444,
              "#bd3786"
             ],
             [
              0.5555555555555556,
              "#d8576b"
             ],
             [
              0.6666666666666666,
              "#ed7953"
             ],
             [
              0.7777777777777778,
              "#fb9f3a"
             ],
             [
              0.8888888888888888,
              "#fdca26"
             ],
             [
              1,
              "#f0f921"
             ]
            ],
            "type": "heatmapgl"
           }
          ],
          "histogram": [
           {
            "marker": {
             "pattern": {
              "fillmode": "overlay",
              "size": 10,
              "solidity": 0.2
             }
            },
            "type": "histogram"
           }
          ],
          "histogram2d": [
           {
            "colorbar": {
             "outlinewidth": 0,
             "ticks": ""
            },
            "colorscale": [
             [
              0,
              "#0d0887"
             ],
             [
              0.1111111111111111,
              "#46039f"
             ],
             [
              0.2222222222222222,
              "#7201a8"
             ],
             [
              0.3333333333333333,
              "#9c179e"
             ],
             [
              0.4444444444444444,
              "#bd3786"
             ],
             [
              0.5555555555555556,
              "#d8576b"
             ],
             [
              0.6666666666666666,
              "#ed7953"
             ],
             [
              0.7777777777777778,
              "#fb9f3a"
             ],
             [
              0.8888888888888888,
              "#fdca26"
             ],
             [
              1,
              "#f0f921"
             ]
            ],
            "type": "histogram2d"
           }
          ],
          "histogram2dcontour": [
           {
            "colorbar": {
             "outlinewidth": 0,
             "ticks": ""
            },
            "colorscale": [
             [
              0,
              "#0d0887"
             ],
             [
              0.1111111111111111,
              "#46039f"
             ],
             [
              0.2222222222222222,
              "#7201a8"
             ],
             [
              0.3333333333333333,
              "#9c179e"
             ],
             [
              0.4444444444444444,
              "#bd3786"
             ],
             [
              0.5555555555555556,
              "#d8576b"
             ],
             [
              0.6666666666666666,
              "#ed7953"
             ],
             [
              0.7777777777777778,
              "#fb9f3a"
             ],
             [
              0.8888888888888888,
              "#fdca26"
             ],
             [
              1,
              "#f0f921"
             ]
            ],
            "type": "histogram2dcontour"
           }
          ],
          "mesh3d": [
           {
            "colorbar": {
             "outlinewidth": 0,
             "ticks": ""
            },
            "type": "mesh3d"
           }
          ],
          "parcoords": [
           {
            "line": {
             "colorbar": {
              "outlinewidth": 0,
              "ticks": ""
             }
            },
            "type": "parcoords"
           }
          ],
          "pie": [
           {
            "automargin": true,
            "type": "pie"
           }
          ],
          "scatter": [
           {
            "marker": {
             "colorbar": {
              "outlinewidth": 0,
              "ticks": ""
             }
            },
            "type": "scatter"
           }
          ],
          "scatter3d": [
           {
            "line": {
             "colorbar": {
              "outlinewidth": 0,
              "ticks": ""
             }
            },
            "marker": {
             "colorbar": {
              "outlinewidth": 0,
              "ticks": ""
             }
            },
            "type": "scatter3d"
           }
          ],
          "scattercarpet": [
           {
            "marker": {
             "colorbar": {
              "outlinewidth": 0,
              "ticks": ""
             }
            },
            "type": "scattercarpet"
           }
          ],
          "scattergeo": [
           {
            "marker": {
             "colorbar": {
              "outlinewidth": 0,
              "ticks": ""
             }
            },
            "type": "scattergeo"
           }
          ],
          "scattergl": [
           {
            "marker": {
             "colorbar": {
              "outlinewidth": 0,
              "ticks": ""
             }
            },
            "type": "scattergl"
           }
          ],
          "scattermapbox": [
           {
            "marker": {
             "colorbar": {
              "outlinewidth": 0,
              "ticks": ""
             }
            },
            "type": "scattermapbox"
           }
          ],
          "scatterpolar": [
           {
            "marker": {
             "colorbar": {
              "outlinewidth": 0,
              "ticks": ""
             }
            },
            "type": "scatterpolar"
           }
          ],
          "scatterpolargl": [
           {
            "marker": {
             "colorbar": {
              "outlinewidth": 0,
              "ticks": ""
             }
            },
            "type": "scatterpolargl"
           }
          ],
          "scatterternary": [
           {
            "marker": {
             "colorbar": {
              "outlinewidth": 0,
              "ticks": ""
             }
            },
            "type": "scatterternary"
           }
          ],
          "surface": [
           {
            "colorbar": {
             "outlinewidth": 0,
             "ticks": ""
            },
            "colorscale": [
             [
              0,
              "#0d0887"
             ],
             [
              0.1111111111111111,
              "#46039f"
             ],
             [
              0.2222222222222222,
              "#7201a8"
             ],
             [
              0.3333333333333333,
              "#9c179e"
             ],
             [
              0.4444444444444444,
              "#bd3786"
             ],
             [
              0.5555555555555556,
              "#d8576b"
             ],
             [
              0.6666666666666666,
              "#ed7953"
             ],
             [
              0.7777777777777778,
              "#fb9f3a"
             ],
             [
              0.8888888888888888,
              "#fdca26"
             ],
             [
              1,
              "#f0f921"
             ]
            ],
            "type": "surface"
           }
          ],
          "table": [
           {
            "cells": {
             "fill": {
              "color": "#EBF0F8"
             },
             "line": {
              "color": "white"
             }
            },
            "header": {
             "fill": {
              "color": "#C8D4E3"
             },
             "line": {
              "color": "white"
             }
            },
            "type": "table"
           }
          ]
         },
         "layout": {
          "annotationdefaults": {
           "arrowcolor": "#2a3f5f",
           "arrowhead": 0,
           "arrowwidth": 1
          },
          "autotypenumbers": "strict",
          "coloraxis": {
           "colorbar": {
            "outlinewidth": 0,
            "ticks": ""
           }
          },
          "colorscale": {
           "diverging": [
            [
             0,
             "#8e0152"
            ],
            [
             0.1,
             "#c51b7d"
            ],
            [
             0.2,
             "#de77ae"
            ],
            [
             0.3,
             "#f1b6da"
            ],
            [
             0.4,
             "#fde0ef"
            ],
            [
             0.5,
             "#f7f7f7"
            ],
            [
             0.6,
             "#e6f5d0"
            ],
            [
             0.7,
             "#b8e186"
            ],
            [
             0.8,
             "#7fbc41"
            ],
            [
             0.9,
             "#4d9221"
            ],
            [
             1,
             "#276419"
            ]
           ],
           "sequential": [
            [
             0,
             "#0d0887"
            ],
            [
             0.1111111111111111,
             "#46039f"
            ],
            [
             0.2222222222222222,
             "#7201a8"
            ],
            [
             0.3333333333333333,
             "#9c179e"
            ],
            [
             0.4444444444444444,
             "#bd3786"
            ],
            [
             0.5555555555555556,
             "#d8576b"
            ],
            [
             0.6666666666666666,
             "#ed7953"
            ],
            [
             0.7777777777777778,
             "#fb9f3a"
            ],
            [
             0.8888888888888888,
             "#fdca26"
            ],
            [
             1,
             "#f0f921"
            ]
           ],
           "sequentialminus": [
            [
             0,
             "#0d0887"
            ],
            [
             0.1111111111111111,
             "#46039f"
            ],
            [
             0.2222222222222222,
             "#7201a8"
            ],
            [
             0.3333333333333333,
             "#9c179e"
            ],
            [
             0.4444444444444444,
             "#bd3786"
            ],
            [
             0.5555555555555556,
             "#d8576b"
            ],
            [
             0.6666666666666666,
             "#ed7953"
            ],
            [
             0.7777777777777778,
             "#fb9f3a"
            ],
            [
             0.8888888888888888,
             "#fdca26"
            ],
            [
             1,
             "#f0f921"
            ]
           ]
          },
          "colorway": [
           "#636efa",
           "#EF553B",
           "#00cc96",
           "#ab63fa",
           "#FFA15A",
           "#19d3f3",
           "#FF6692",
           "#B6E880",
           "#FF97FF",
           "#FECB52"
          ],
          "font": {
           "color": "#2a3f5f"
          },
          "geo": {
           "bgcolor": "white",
           "lakecolor": "white",
           "landcolor": "#E5ECF6",
           "showlakes": true,
           "showland": true,
           "subunitcolor": "white"
          },
          "hoverlabel": {
           "align": "left"
          },
          "hovermode": "closest",
          "mapbox": {
           "style": "light"
          },
          "paper_bgcolor": "white",
          "plot_bgcolor": "#E5ECF6",
          "polar": {
           "angularaxis": {
            "gridcolor": "white",
            "linecolor": "white",
            "ticks": ""
           },
           "bgcolor": "#E5ECF6",
           "radialaxis": {
            "gridcolor": "white",
            "linecolor": "white",
            "ticks": ""
           }
          },
          "scene": {
           "xaxis": {
            "backgroundcolor": "#E5ECF6",
            "gridcolor": "white",
            "gridwidth": 2,
            "linecolor": "white",
            "showbackground": true,
            "ticks": "",
            "zerolinecolor": "white"
           },
           "yaxis": {
            "backgroundcolor": "#E5ECF6",
            "gridcolor": "white",
            "gridwidth": 2,
            "linecolor": "white",
            "showbackground": true,
            "ticks": "",
            "zerolinecolor": "white"
           },
           "zaxis": {
            "backgroundcolor": "#E5ECF6",
            "gridcolor": "white",
            "gridwidth": 2,
            "linecolor": "white",
            "showbackground": true,
            "ticks": "",
            "zerolinecolor": "white"
           }
          },
          "shapedefaults": {
           "line": {
            "color": "#2a3f5f"
           }
          },
          "ternary": {
           "aaxis": {
            "gridcolor": "white",
            "linecolor": "white",
            "ticks": ""
           },
           "baxis": {
            "gridcolor": "white",
            "linecolor": "white",
            "ticks": ""
           },
           "bgcolor": "#E5ECF6",
           "caxis": {
            "gridcolor": "white",
            "linecolor": "white",
            "ticks": ""
           }
          },
          "title": {
           "x": 0.05
          },
          "xaxis": {
           "automargin": true,
           "gridcolor": "white",
           "linecolor": "white",
           "ticks": "",
           "title": {
            "standoff": 15
           },
           "zerolinecolor": "white",
           "zerolinewidth": 2
          },
          "yaxis": {
           "automargin": true,
           "gridcolor": "white",
           "linecolor": "white",
           "ticks": "",
           "title": {
            "standoff": 15
           },
           "zerolinecolor": "white",
           "zerolinewidth": 2
          }
         }
        },
        "title": {
         "text": "Profits Betting For Team X"
        },
        "xaxis": {
         "anchor": "y",
         "domain": [
          0,
          1
         ],
         "title": {
          "text": "team"
         }
        },
        "yaxis": {
         "anchor": "x",
         "domain": [
          0,
          1
         ],
         "title": {
          "text": "value"
         }
        }
       }
      }
     },
     "metadata": {},
     "output_type": "display_data"
    },
    {
     "data": {
      "application/vnd.plotly.v1+json": {
       "config": {
        "plotlyServerURL": "https://plot.ly"
       },
       "data": [
        {
         "alignmentgroup": "True",
         "hovertemplate": "variable=bet_payout<br>team=%{x}<br>value=%{y}<extra></extra>",
         "legendgroup": "bet_payout",
         "marker": {
          "color": "#636efa",
          "pattern": {
           "shape": ""
          }
         },
         "name": "bet_payout",
         "offsetgroup": "bet_payout",
         "orientation": "v",
         "showlegend": true,
         "textposition": "auto",
         "type": "bar",
         "x": [
          "IND",
          "JAX",
          "BAL",
          "SEA",
          "BUF",
          "LAC",
          "DEN",
          "ARI",
          "TEN",
          "CIN",
          "DET",
          "DAL",
          "NYJ",
          "LV",
          "CLE",
          "GB",
          "TB",
          "PIT",
          "HOU",
          "NE",
          "NO",
          "CAR",
          "MIN",
          "NYG",
          "ATL",
          "SF",
          "KC",
          "MIA",
          "LAR",
          "WAS",
          "PHI"
         ],
         "xaxis": "x",
         "y": [
          6.470898876404494,
          6.022471941560697,
          5.49,
          3.9052380952380954,
          3.5999999999999996,
          3.4224096385542166,
          3.0852363706710184,
          1.8,
          1.06,
          0.8866589237320945,
          0.7925743899395721,
          0.4662686567164176,
          0.3937777898911987,
          0.1499999999999999,
          -0.348974358974359,
          -0.3799999999999999,
          -0.5600000000000005,
          -0.6276811594202902,
          -1,
          -1.2325688073394496,
          -1.3197278911564627,
          -1.53,
          -1.85,
          -2,
          -2.3899999999999997,
          -2.54,
          -2.62,
          -3,
          -3.38,
          -3.6758497589731847,
          -4.42067784765898
         ],
         "yaxis": "y"
        }
       ],
       "layout": {
        "barmode": "relative",
        "legend": {
         "title": {
          "text": "variable"
         },
         "tracegroupgap": 0
        },
        "template": {
         "data": {
          "bar": [
           {
            "error_x": {
             "color": "#2a3f5f"
            },
            "error_y": {
             "color": "#2a3f5f"
            },
            "marker": {
             "line": {
              "color": "#E5ECF6",
              "width": 0.5
             },
             "pattern": {
              "fillmode": "overlay",
              "size": 10,
              "solidity": 0.2
             }
            },
            "type": "bar"
           }
          ],
          "barpolar": [
           {
            "marker": {
             "line": {
              "color": "#E5ECF6",
              "width": 0.5
             },
             "pattern": {
              "fillmode": "overlay",
              "size": 10,
              "solidity": 0.2
             }
            },
            "type": "barpolar"
           }
          ],
          "carpet": [
           {
            "aaxis": {
             "endlinecolor": "#2a3f5f",
             "gridcolor": "white",
             "linecolor": "white",
             "minorgridcolor": "white",
             "startlinecolor": "#2a3f5f"
            },
            "baxis": {
             "endlinecolor": "#2a3f5f",
             "gridcolor": "white",
             "linecolor": "white",
             "minorgridcolor": "white",
             "startlinecolor": "#2a3f5f"
            },
            "type": "carpet"
           }
          ],
          "choropleth": [
           {
            "colorbar": {
             "outlinewidth": 0,
             "ticks": ""
            },
            "type": "choropleth"
           }
          ],
          "contour": [
           {
            "colorbar": {
             "outlinewidth": 0,
             "ticks": ""
            },
            "colorscale": [
             [
              0,
              "#0d0887"
             ],
             [
              0.1111111111111111,
              "#46039f"
             ],
             [
              0.2222222222222222,
              "#7201a8"
             ],
             [
              0.3333333333333333,
              "#9c179e"
             ],
             [
              0.4444444444444444,
              "#bd3786"
             ],
             [
              0.5555555555555556,
              "#d8576b"
             ],
             [
              0.6666666666666666,
              "#ed7953"
             ],
             [
              0.7777777777777778,
              "#fb9f3a"
             ],
             [
              0.8888888888888888,
              "#fdca26"
             ],
             [
              1,
              "#f0f921"
             ]
            ],
            "type": "contour"
           }
          ],
          "contourcarpet": [
           {
            "colorbar": {
             "outlinewidth": 0,
             "ticks": ""
            },
            "type": "contourcarpet"
           }
          ],
          "heatmap": [
           {
            "colorbar": {
             "outlinewidth": 0,
             "ticks": ""
            },
            "colorscale": [
             [
              0,
              "#0d0887"
             ],
             [
              0.1111111111111111,
              "#46039f"
             ],
             [
              0.2222222222222222,
              "#7201a8"
             ],
             [
              0.3333333333333333,
              "#9c179e"
             ],
             [
              0.4444444444444444,
              "#bd3786"
             ],
             [
              0.5555555555555556,
              "#d8576b"
             ],
             [
              0.6666666666666666,
              "#ed7953"
             ],
             [
              0.7777777777777778,
              "#fb9f3a"
             ],
             [
              0.8888888888888888,
              "#fdca26"
             ],
             [
              1,
              "#f0f921"
             ]
            ],
            "type": "heatmap"
           }
          ],
          "heatmapgl": [
           {
            "colorbar": {
             "outlinewidth": 0,
             "ticks": ""
            },
            "colorscale": [
             [
              0,
              "#0d0887"
             ],
             [
              0.1111111111111111,
              "#46039f"
             ],
             [
              0.2222222222222222,
              "#7201a8"
             ],
             [
              0.3333333333333333,
              "#9c179e"
             ],
             [
              0.4444444444444444,
              "#bd3786"
             ],
             [
              0.5555555555555556,
              "#d8576b"
             ],
             [
              0.6666666666666666,
              "#ed7953"
             ],
             [
              0.7777777777777778,
              "#fb9f3a"
             ],
             [
              0.8888888888888888,
              "#fdca26"
             ],
             [
              1,
              "#f0f921"
             ]
            ],
            "type": "heatmapgl"
           }
          ],
          "histogram": [
           {
            "marker": {
             "pattern": {
              "fillmode": "overlay",
              "size": 10,
              "solidity": 0.2
             }
            },
            "type": "histogram"
           }
          ],
          "histogram2d": [
           {
            "colorbar": {
             "outlinewidth": 0,
             "ticks": ""
            },
            "colorscale": [
             [
              0,
              "#0d0887"
             ],
             [
              0.1111111111111111,
              "#46039f"
             ],
             [
              0.2222222222222222,
              "#7201a8"
             ],
             [
              0.3333333333333333,
              "#9c179e"
             ],
             [
              0.4444444444444444,
              "#bd3786"
             ],
             [
              0.5555555555555556,
              "#d8576b"
             ],
             [
              0.6666666666666666,
              "#ed7953"
             ],
             [
              0.7777777777777778,
              "#fb9f3a"
             ],
             [
              0.8888888888888888,
              "#fdca26"
             ],
             [
              1,
              "#f0f921"
             ]
            ],
            "type": "histogram2d"
           }
          ],
          "histogram2dcontour": [
           {
            "colorbar": {
             "outlinewidth": 0,
             "ticks": ""
            },
            "colorscale": [
             [
              0,
              "#0d0887"
             ],
             [
              0.1111111111111111,
              "#46039f"
             ],
             [
              0.2222222222222222,
              "#7201a8"
             ],
             [
              0.3333333333333333,
              "#9c179e"
             ],
             [
              0.4444444444444444,
              "#bd3786"
             ],
             [
              0.5555555555555556,
              "#d8576b"
             ],
             [
              0.6666666666666666,
              "#ed7953"
             ],
             [
              0.7777777777777778,
              "#fb9f3a"
             ],
             [
              0.8888888888888888,
              "#fdca26"
             ],
             [
              1,
              "#f0f921"
             ]
            ],
            "type": "histogram2dcontour"
           }
          ],
          "mesh3d": [
           {
            "colorbar": {
             "outlinewidth": 0,
             "ticks": ""
            },
            "type": "mesh3d"
           }
          ],
          "parcoords": [
           {
            "line": {
             "colorbar": {
              "outlinewidth": 0,
              "ticks": ""
             }
            },
            "type": "parcoords"
           }
          ],
          "pie": [
           {
            "automargin": true,
            "type": "pie"
           }
          ],
          "scatter": [
           {
            "marker": {
             "colorbar": {
              "outlinewidth": 0,
              "ticks": ""
             }
            },
            "type": "scatter"
           }
          ],
          "scatter3d": [
           {
            "line": {
             "colorbar": {
              "outlinewidth": 0,
              "ticks": ""
             }
            },
            "marker": {
             "colorbar": {
              "outlinewidth": 0,
              "ticks": ""
             }
            },
            "type": "scatter3d"
           }
          ],
          "scattercarpet": [
           {
            "marker": {
             "colorbar": {
              "outlinewidth": 0,
              "ticks": ""
             }
            },
            "type": "scattercarpet"
           }
          ],
          "scattergeo": [
           {
            "marker": {
             "colorbar": {
              "outlinewidth": 0,
              "ticks": ""
             }
            },
            "type": "scattergeo"
           }
          ],
          "scattergl": [
           {
            "marker": {
             "colorbar": {
              "outlinewidth": 0,
              "ticks": ""
             }
            },
            "type": "scattergl"
           }
          ],
          "scattermapbox": [
           {
            "marker": {
             "colorbar": {
              "outlinewidth": 0,
              "ticks": ""
             }
            },
            "type": "scattermapbox"
           }
          ],
          "scatterpolar": [
           {
            "marker": {
             "colorbar": {
              "outlinewidth": 0,
              "ticks": ""
             }
            },
            "type": "scatterpolar"
           }
          ],
          "scatterpolargl": [
           {
            "marker": {
             "colorbar": {
              "outlinewidth": 0,
              "ticks": ""
             }
            },
            "type": "scatterpolargl"
           }
          ],
          "scatterternary": [
           {
            "marker": {
             "colorbar": {
              "outlinewidth": 0,
              "ticks": ""
             }
            },
            "type": "scatterternary"
           }
          ],
          "surface": [
           {
            "colorbar": {
             "outlinewidth": 0,
             "ticks": ""
            },
            "colorscale": [
             [
              0,
              "#0d0887"
             ],
             [
              0.1111111111111111,
              "#46039f"
             ],
             [
              0.2222222222222222,
              "#7201a8"
             ],
             [
              0.3333333333333333,
              "#9c179e"
             ],
             [
              0.4444444444444444,
              "#bd3786"
             ],
             [
              0.5555555555555556,
              "#d8576b"
             ],
             [
              0.6666666666666666,
              "#ed7953"
             ],
             [
              0.7777777777777778,
              "#fb9f3a"
             ],
             [
              0.8888888888888888,
              "#fdca26"
             ],
             [
              1,
              "#f0f921"
             ]
            ],
            "type": "surface"
           }
          ],
          "table": [
           {
            "cells": {
             "fill": {
              "color": "#EBF0F8"
             },
             "line": {
              "color": "white"
             }
            },
            "header": {
             "fill": {
              "color": "#C8D4E3"
             },
             "line": {
              "color": "white"
             }
            },
            "type": "table"
           }
          ]
         },
         "layout": {
          "annotationdefaults": {
           "arrowcolor": "#2a3f5f",
           "arrowhead": 0,
           "arrowwidth": 1
          },
          "autotypenumbers": "strict",
          "coloraxis": {
           "colorbar": {
            "outlinewidth": 0,
            "ticks": ""
           }
          },
          "colorscale": {
           "diverging": [
            [
             0,
             "#8e0152"
            ],
            [
             0.1,
             "#c51b7d"
            ],
            [
             0.2,
             "#de77ae"
            ],
            [
             0.3,
             "#f1b6da"
            ],
            [
             0.4,
             "#fde0ef"
            ],
            [
             0.5,
             "#f7f7f7"
            ],
            [
             0.6,
             "#e6f5d0"
            ],
            [
             0.7,
             "#b8e186"
            ],
            [
             0.8,
             "#7fbc41"
            ],
            [
             0.9,
             "#4d9221"
            ],
            [
             1,
             "#276419"
            ]
           ],
           "sequential": [
            [
             0,
             "#0d0887"
            ],
            [
             0.1111111111111111,
             "#46039f"
            ],
            [
             0.2222222222222222,
             "#7201a8"
            ],
            [
             0.3333333333333333,
             "#9c179e"
            ],
            [
             0.4444444444444444,
             "#bd3786"
            ],
            [
             0.5555555555555556,
             "#d8576b"
            ],
            [
             0.6666666666666666,
             "#ed7953"
            ],
            [
             0.7777777777777778,
             "#fb9f3a"
            ],
            [
             0.8888888888888888,
             "#fdca26"
            ],
            [
             1,
             "#f0f921"
            ]
           ],
           "sequentialminus": [
            [
             0,
             "#0d0887"
            ],
            [
             0.1111111111111111,
             "#46039f"
            ],
            [
             0.2222222222222222,
             "#7201a8"
            ],
            [
             0.3333333333333333,
             "#9c179e"
            ],
            [
             0.4444444444444444,
             "#bd3786"
            ],
            [
             0.5555555555555556,
             "#d8576b"
            ],
            [
             0.6666666666666666,
             "#ed7953"
            ],
            [
             0.7777777777777778,
             "#fb9f3a"
            ],
            [
             0.8888888888888888,
             "#fdca26"
            ],
            [
             1,
             "#f0f921"
            ]
           ]
          },
          "colorway": [
           "#636efa",
           "#EF553B",
           "#00cc96",
           "#ab63fa",
           "#FFA15A",
           "#19d3f3",
           "#FF6692",
           "#B6E880",
           "#FF97FF",
           "#FECB52"
          ],
          "font": {
           "color": "#2a3f5f"
          },
          "geo": {
           "bgcolor": "white",
           "lakecolor": "white",
           "landcolor": "#E5ECF6",
           "showlakes": true,
           "showland": true,
           "subunitcolor": "white"
          },
          "hoverlabel": {
           "align": "left"
          },
          "hovermode": "closest",
          "mapbox": {
           "style": "light"
          },
          "paper_bgcolor": "white",
          "plot_bgcolor": "#E5ECF6",
          "polar": {
           "angularaxis": {
            "gridcolor": "white",
            "linecolor": "white",
            "ticks": ""
           },
           "bgcolor": "#E5ECF6",
           "radialaxis": {
            "gridcolor": "white",
            "linecolor": "white",
            "ticks": ""
           }
          },
          "scene": {
           "xaxis": {
            "backgroundcolor": "#E5ECF6",
            "gridcolor": "white",
            "gridwidth": 2,
            "linecolor": "white",
            "showbackground": true,
            "ticks": "",
            "zerolinecolor": "white"
           },
           "yaxis": {
            "backgroundcolor": "#E5ECF6",
            "gridcolor": "white",
            "gridwidth": 2,
            "linecolor": "white",
            "showbackground": true,
            "ticks": "",
            "zerolinecolor": "white"
           },
           "zaxis": {
            "backgroundcolor": "#E5ECF6",
            "gridcolor": "white",
            "gridwidth": 2,
            "linecolor": "white",
            "showbackground": true,
            "ticks": "",
            "zerolinecolor": "white"
           }
          },
          "shapedefaults": {
           "line": {
            "color": "#2a3f5f"
           }
          },
          "ternary": {
           "aaxis": {
            "gridcolor": "white",
            "linecolor": "white",
            "ticks": ""
           },
           "baxis": {
            "gridcolor": "white",
            "linecolor": "white",
            "ticks": ""
           },
           "bgcolor": "#E5ECF6",
           "caxis": {
            "gridcolor": "white",
            "linecolor": "white",
            "ticks": ""
           }
          },
          "title": {
           "x": 0.05
          },
          "xaxis": {
           "automargin": true,
           "gridcolor": "white",
           "linecolor": "white",
           "ticks": "",
           "title": {
            "standoff": 15
           },
           "zerolinecolor": "white",
           "zerolinewidth": 2
          },
          "yaxis": {
           "automargin": true,
           "gridcolor": "white",
           "linecolor": "white",
           "ticks": "",
           "title": {
            "standoff": 15
           },
           "zerolinecolor": "white",
           "zerolinewidth": 2
          }
         }
        },
        "title": {
         "text": "Profits Betting Against Team X"
        },
        "xaxis": {
         "anchor": "y",
         "domain": [
          0,
          1
         ],
         "title": {
          "text": "team"
         }
        },
        "yaxis": {
         "anchor": "x",
         "domain": [
          0,
          1
         ],
         "title": {
          "text": "value"
         }
        }
       }
      }
     },
     "metadata": {},
     "output_type": "display_data"
    }
   ],
   "source": [
    "# What teams did I win the most money betting for/against?\n",
    "to_plot = sand_pred[(sand_pred['season']==2021)&(sand_pred['game_type']=='REG')].copy()\n",
    "team1_bet_cond = to_plot['sandbox_pred1'] > to_plot['team1_moneyline'].apply(util.odds_to_implied_prob) + 0.01\n",
    "team2_bet_cond = (1-to_plot['sandbox_pred1']) > to_plot['team2_moneyline'].apply(util.odds_to_implied_prob) + 0.01\n",
    "bets_for = pd.concat([to_plot[team1_bet_cond][['game_id','team1','bet_payout']].rename(columns={'team1':'team'}),\n",
    "                      to_plot[team2_bet_cond][['game_id','team2','bet_payout']].rename(columns={'team2':'team'})])\n",
    "\n",
    "bets_against = pd.concat([to_plot[team1_bet_cond][['game_id','team2','bet_payout']].rename(columns={'team2':'team'}),\n",
    "                          to_plot[team2_bet_cond][['game_id','team1','bet_payout']].rename(columns={'team1':'team'})])\n",
    "\n",
    "fig = px.bar(bets_for.groupby('team')['bet_payout'].sum().sort_values(ascending=False), title='Profits Betting For Team X')\n",
    "fig.show()\n",
    "\n",
    "fig = px.bar(bets_against.groupby('team')['bet_payout'].sum().sort_values(ascending=False), title='Profits Betting Against Team X')\n",
    "fig.show()"
   ]
  },
  {
   "cell_type": "code",
   "execution_count": 15,
   "metadata": {},
   "outputs": [
    {
     "data": {
      "application/vnd.plotly.v1+json": {
       "config": {
        "plotlyServerURL": "https://plot.ly"
       },
       "data": [
        {
         "alignmentgroup": "True",
         "hovertemplate": "variable=bet_payout<br>week=%{x}<br>value=%{y}<extra></extra>",
         "legendgroup": "bet_payout",
         "marker": {
          "color": "#636efa",
          "pattern": {
           "shape": ""
          }
         },
         "name": "bet_payout",
         "offsetgroup": "bet_payout",
         "orientation": "v",
         "showlegend": true,
         "textposition": "auto",
         "type": "bar",
         "x": [
          11,
          15,
          8,
          3,
          5,
          13,
          16,
          1,
          6,
          10,
          9,
          12,
          4,
          17,
          7,
          2,
          14
         ],
         "xaxis": "x",
         "y": [
          5.313509341936494,
          3.6086634844868737,
          2.3190909090909098,
          2.2211409395973156,
          1.6949852507374628,
          1.2656301145662847,
          1.0223733262155787,
          0.5485228919033629,
          0.19524660708374708,
          -0.3984403282612998,
          -0.5952808988764047,
          -1.660645469405822,
          -2.382350021894614,
          -5.08776397515528,
          -5.3372837924407435,
          -5.63954954954955,
          -6.1899999999999995
         ],
         "yaxis": "y"
        }
       ],
       "layout": {
        "barmode": "relative",
        "legend": {
         "title": {
          "text": "variable"
         },
         "tracegroupgap": 0
        },
        "template": {
         "data": {
          "bar": [
           {
            "error_x": {
             "color": "#2a3f5f"
            },
            "error_y": {
             "color": "#2a3f5f"
            },
            "marker": {
             "line": {
              "color": "#E5ECF6",
              "width": 0.5
             },
             "pattern": {
              "fillmode": "overlay",
              "size": 10,
              "solidity": 0.2
             }
            },
            "type": "bar"
           }
          ],
          "barpolar": [
           {
            "marker": {
             "line": {
              "color": "#E5ECF6",
              "width": 0.5
             },
             "pattern": {
              "fillmode": "overlay",
              "size": 10,
              "solidity": 0.2
             }
            },
            "type": "barpolar"
           }
          ],
          "carpet": [
           {
            "aaxis": {
             "endlinecolor": "#2a3f5f",
             "gridcolor": "white",
             "linecolor": "white",
             "minorgridcolor": "white",
             "startlinecolor": "#2a3f5f"
            },
            "baxis": {
             "endlinecolor": "#2a3f5f",
             "gridcolor": "white",
             "linecolor": "white",
             "minorgridcolor": "white",
             "startlinecolor": "#2a3f5f"
            },
            "type": "carpet"
           }
          ],
          "choropleth": [
           {
            "colorbar": {
             "outlinewidth": 0,
             "ticks": ""
            },
            "type": "choropleth"
           }
          ],
          "contour": [
           {
            "colorbar": {
             "outlinewidth": 0,
             "ticks": ""
            },
            "colorscale": [
             [
              0,
              "#0d0887"
             ],
             [
              0.1111111111111111,
              "#46039f"
             ],
             [
              0.2222222222222222,
              "#7201a8"
             ],
             [
              0.3333333333333333,
              "#9c179e"
             ],
             [
              0.4444444444444444,
              "#bd3786"
             ],
             [
              0.5555555555555556,
              "#d8576b"
             ],
             [
              0.6666666666666666,
              "#ed7953"
             ],
             [
              0.7777777777777778,
              "#fb9f3a"
             ],
             [
              0.8888888888888888,
              "#fdca26"
             ],
             [
              1,
              "#f0f921"
             ]
            ],
            "type": "contour"
           }
          ],
          "contourcarpet": [
           {
            "colorbar": {
             "outlinewidth": 0,
             "ticks": ""
            },
            "type": "contourcarpet"
           }
          ],
          "heatmap": [
           {
            "colorbar": {
             "outlinewidth": 0,
             "ticks": ""
            },
            "colorscale": [
             [
              0,
              "#0d0887"
             ],
             [
              0.1111111111111111,
              "#46039f"
             ],
             [
              0.2222222222222222,
              "#7201a8"
             ],
             [
              0.3333333333333333,
              "#9c179e"
             ],
             [
              0.4444444444444444,
              "#bd3786"
             ],
             [
              0.5555555555555556,
              "#d8576b"
             ],
             [
              0.6666666666666666,
              "#ed7953"
             ],
             [
              0.7777777777777778,
              "#fb9f3a"
             ],
             [
              0.8888888888888888,
              "#fdca26"
             ],
             [
              1,
              "#f0f921"
             ]
            ],
            "type": "heatmap"
           }
          ],
          "heatmapgl": [
           {
            "colorbar": {
             "outlinewidth": 0,
             "ticks": ""
            },
            "colorscale": [
             [
              0,
              "#0d0887"
             ],
             [
              0.1111111111111111,
              "#46039f"
             ],
             [
              0.2222222222222222,
              "#7201a8"
             ],
             [
              0.3333333333333333,
              "#9c179e"
             ],
             [
              0.4444444444444444,
              "#bd3786"
             ],
             [
              0.5555555555555556,
              "#d8576b"
             ],
             [
              0.6666666666666666,
              "#ed7953"
             ],
             [
              0.7777777777777778,
              "#fb9f3a"
             ],
             [
              0.8888888888888888,
              "#fdca26"
             ],
             [
              1,
              "#f0f921"
             ]
            ],
            "type": "heatmapgl"
           }
          ],
          "histogram": [
           {
            "marker": {
             "pattern": {
              "fillmode": "overlay",
              "size": 10,
              "solidity": 0.2
             }
            },
            "type": "histogram"
           }
          ],
          "histogram2d": [
           {
            "colorbar": {
             "outlinewidth": 0,
             "ticks": ""
            },
            "colorscale": [
             [
              0,
              "#0d0887"
             ],
             [
              0.1111111111111111,
              "#46039f"
             ],
             [
              0.2222222222222222,
              "#7201a8"
             ],
             [
              0.3333333333333333,
              "#9c179e"
             ],
             [
              0.4444444444444444,
              "#bd3786"
             ],
             [
              0.5555555555555556,
              "#d8576b"
             ],
             [
              0.6666666666666666,
              "#ed7953"
             ],
             [
              0.7777777777777778,
              "#fb9f3a"
             ],
             [
              0.8888888888888888,
              "#fdca26"
             ],
             [
              1,
              "#f0f921"
             ]
            ],
            "type": "histogram2d"
           }
          ],
          "histogram2dcontour": [
           {
            "colorbar": {
             "outlinewidth": 0,
             "ticks": ""
            },
            "colorscale": [
             [
              0,
              "#0d0887"
             ],
             [
              0.1111111111111111,
              "#46039f"
             ],
             [
              0.2222222222222222,
              "#7201a8"
             ],
             [
              0.3333333333333333,
              "#9c179e"
             ],
             [
              0.4444444444444444,
              "#bd3786"
             ],
             [
              0.5555555555555556,
              "#d8576b"
             ],
             [
              0.6666666666666666,
              "#ed7953"
             ],
             [
              0.7777777777777778,
              "#fb9f3a"
             ],
             [
              0.8888888888888888,
              "#fdca26"
             ],
             [
              1,
              "#f0f921"
             ]
            ],
            "type": "histogram2dcontour"
           }
          ],
          "mesh3d": [
           {
            "colorbar": {
             "outlinewidth": 0,
             "ticks": ""
            },
            "type": "mesh3d"
           }
          ],
          "parcoords": [
           {
            "line": {
             "colorbar": {
              "outlinewidth": 0,
              "ticks": ""
             }
            },
            "type": "parcoords"
           }
          ],
          "pie": [
           {
            "automargin": true,
            "type": "pie"
           }
          ],
          "scatter": [
           {
            "marker": {
             "colorbar": {
              "outlinewidth": 0,
              "ticks": ""
             }
            },
            "type": "scatter"
           }
          ],
          "scatter3d": [
           {
            "line": {
             "colorbar": {
              "outlinewidth": 0,
              "ticks": ""
             }
            },
            "marker": {
             "colorbar": {
              "outlinewidth": 0,
              "ticks": ""
             }
            },
            "type": "scatter3d"
           }
          ],
          "scattercarpet": [
           {
            "marker": {
             "colorbar": {
              "outlinewidth": 0,
              "ticks": ""
             }
            },
            "type": "scattercarpet"
           }
          ],
          "scattergeo": [
           {
            "marker": {
             "colorbar": {
              "outlinewidth": 0,
              "ticks": ""
             }
            },
            "type": "scattergeo"
           }
          ],
          "scattergl": [
           {
            "marker": {
             "colorbar": {
              "outlinewidth": 0,
              "ticks": ""
             }
            },
            "type": "scattergl"
           }
          ],
          "scattermapbox": [
           {
            "marker": {
             "colorbar": {
              "outlinewidth": 0,
              "ticks": ""
             }
            },
            "type": "scattermapbox"
           }
          ],
          "scatterpolar": [
           {
            "marker": {
             "colorbar": {
              "outlinewidth": 0,
              "ticks": ""
             }
            },
            "type": "scatterpolar"
           }
          ],
          "scatterpolargl": [
           {
            "marker": {
             "colorbar": {
              "outlinewidth": 0,
              "ticks": ""
             }
            },
            "type": "scatterpolargl"
           }
          ],
          "scatterternary": [
           {
            "marker": {
             "colorbar": {
              "outlinewidth": 0,
              "ticks": ""
             }
            },
            "type": "scatterternary"
           }
          ],
          "surface": [
           {
            "colorbar": {
             "outlinewidth": 0,
             "ticks": ""
            },
            "colorscale": [
             [
              0,
              "#0d0887"
             ],
             [
              0.1111111111111111,
              "#46039f"
             ],
             [
              0.2222222222222222,
              "#7201a8"
             ],
             [
              0.3333333333333333,
              "#9c179e"
             ],
             [
              0.4444444444444444,
              "#bd3786"
             ],
             [
              0.5555555555555556,
              "#d8576b"
             ],
             [
              0.6666666666666666,
              "#ed7953"
             ],
             [
              0.7777777777777778,
              "#fb9f3a"
             ],
             [
              0.8888888888888888,
              "#fdca26"
             ],
             [
              1,
              "#f0f921"
             ]
            ],
            "type": "surface"
           }
          ],
          "table": [
           {
            "cells": {
             "fill": {
              "color": "#EBF0F8"
             },
             "line": {
              "color": "white"
             }
            },
            "header": {
             "fill": {
              "color": "#C8D4E3"
             },
             "line": {
              "color": "white"
             }
            },
            "type": "table"
           }
          ]
         },
         "layout": {
          "annotationdefaults": {
           "arrowcolor": "#2a3f5f",
           "arrowhead": 0,
           "arrowwidth": 1
          },
          "autotypenumbers": "strict",
          "coloraxis": {
           "colorbar": {
            "outlinewidth": 0,
            "ticks": ""
           }
          },
          "colorscale": {
           "diverging": [
            [
             0,
             "#8e0152"
            ],
            [
             0.1,
             "#c51b7d"
            ],
            [
             0.2,
             "#de77ae"
            ],
            [
             0.3,
             "#f1b6da"
            ],
            [
             0.4,
             "#fde0ef"
            ],
            [
             0.5,
             "#f7f7f7"
            ],
            [
             0.6,
             "#e6f5d0"
            ],
            [
             0.7,
             "#b8e186"
            ],
            [
             0.8,
             "#7fbc41"
            ],
            [
             0.9,
             "#4d9221"
            ],
            [
             1,
             "#276419"
            ]
           ],
           "sequential": [
            [
             0,
             "#0d0887"
            ],
            [
             0.1111111111111111,
             "#46039f"
            ],
            [
             0.2222222222222222,
             "#7201a8"
            ],
            [
             0.3333333333333333,
             "#9c179e"
            ],
            [
             0.4444444444444444,
             "#bd3786"
            ],
            [
             0.5555555555555556,
             "#d8576b"
            ],
            [
             0.6666666666666666,
             "#ed7953"
            ],
            [
             0.7777777777777778,
             "#fb9f3a"
            ],
            [
             0.8888888888888888,
             "#fdca26"
            ],
            [
             1,
             "#f0f921"
            ]
           ],
           "sequentialminus": [
            [
             0,
             "#0d0887"
            ],
            [
             0.1111111111111111,
             "#46039f"
            ],
            [
             0.2222222222222222,
             "#7201a8"
            ],
            [
             0.3333333333333333,
             "#9c179e"
            ],
            [
             0.4444444444444444,
             "#bd3786"
            ],
            [
             0.5555555555555556,
             "#d8576b"
            ],
            [
             0.6666666666666666,
             "#ed7953"
            ],
            [
             0.7777777777777778,
             "#fb9f3a"
            ],
            [
             0.8888888888888888,
             "#fdca26"
            ],
            [
             1,
             "#f0f921"
            ]
           ]
          },
          "colorway": [
           "#636efa",
           "#EF553B",
           "#00cc96",
           "#ab63fa",
           "#FFA15A",
           "#19d3f3",
           "#FF6692",
           "#B6E880",
           "#FF97FF",
           "#FECB52"
          ],
          "font": {
           "color": "#2a3f5f"
          },
          "geo": {
           "bgcolor": "white",
           "lakecolor": "white",
           "landcolor": "#E5ECF6",
           "showlakes": true,
           "showland": true,
           "subunitcolor": "white"
          },
          "hoverlabel": {
           "align": "left"
          },
          "hovermode": "closest",
          "mapbox": {
           "style": "light"
          },
          "paper_bgcolor": "white",
          "plot_bgcolor": "#E5ECF6",
          "polar": {
           "angularaxis": {
            "gridcolor": "white",
            "linecolor": "white",
            "ticks": ""
           },
           "bgcolor": "#E5ECF6",
           "radialaxis": {
            "gridcolor": "white",
            "linecolor": "white",
            "ticks": ""
           }
          },
          "scene": {
           "xaxis": {
            "backgroundcolor": "#E5ECF6",
            "gridcolor": "white",
            "gridwidth": 2,
            "linecolor": "white",
            "showbackground": true,
            "ticks": "",
            "zerolinecolor": "white"
           },
           "yaxis": {
            "backgroundcolor": "#E5ECF6",
            "gridcolor": "white",
            "gridwidth": 2,
            "linecolor": "white",
            "showbackground": true,
            "ticks": "",
            "zerolinecolor": "white"
           },
           "zaxis": {
            "backgroundcolor": "#E5ECF6",
            "gridcolor": "white",
            "gridwidth": 2,
            "linecolor": "white",
            "showbackground": true,
            "ticks": "",
            "zerolinecolor": "white"
           }
          },
          "shapedefaults": {
           "line": {
            "color": "#2a3f5f"
           }
          },
          "ternary": {
           "aaxis": {
            "gridcolor": "white",
            "linecolor": "white",
            "ticks": ""
           },
           "baxis": {
            "gridcolor": "white",
            "linecolor": "white",
            "ticks": ""
           },
           "bgcolor": "#E5ECF6",
           "caxis": {
            "gridcolor": "white",
            "linecolor": "white",
            "ticks": ""
           }
          },
          "title": {
           "x": 0.05
          },
          "xaxis": {
           "automargin": true,
           "gridcolor": "white",
           "linecolor": "white",
           "ticks": "",
           "title": {
            "standoff": 15
           },
           "zerolinecolor": "white",
           "zerolinewidth": 2
          },
          "yaxis": {
           "automargin": true,
           "gridcolor": "white",
           "linecolor": "white",
           "ticks": "",
           "title": {
            "standoff": 15
           },
           "zerolinecolor": "white",
           "zerolinewidth": 2
          }
         }
        },
        "title": {
         "text": "Weekly Betting Profits"
        },
        "xaxis": {
         "anchor": "y",
         "domain": [
          0,
          1
         ],
         "title": {
          "text": "week"
         }
        },
        "yaxis": {
         "anchor": "x",
         "domain": [
          0,
          1
         ],
         "title": {
          "text": "value"
         }
        }
       }
      }
     },
     "metadata": {},
     "output_type": "display_data"
    }
   ],
   "source": [
    "# Weekly bet results?\n",
    "to_plot = sand_pred[(sand_pred['season']==2020)&(sand_pred['game_type']=='REG')].copy()\n",
    "to_plot['week'] = to_plot['game_id'].str.split('_').str[1].astype(int)\n",
    "\n",
    "fig = px.bar(to_plot.groupby('week')['bet_payout'].sum().sort_values(ascending=False), title='Weekly Betting Profits')\n",
    "fig.show()\n"
   ]
  },
  {
   "cell_type": "code",
   "execution_count": null,
   "metadata": {},
   "outputs": [],
   "source": []
  }
 ],
 "metadata": {
  "interpreter": {
   "hash": "c6e4e9f98eb68ad3b7c296f83d20e6de614cb42e90992a65aa266555a3137d0d"
  },
  "kernelspec": {
   "display_name": "Python 3.9.7 ('base')",
   "language": "python",
   "name": "python3"
  },
  "language_info": {
   "codemirror_mode": {
    "name": "ipython",
    "version": 3
   },
   "file_extension": ".py",
   "mimetype": "text/x-python",
   "name": "python",
   "nbconvert_exporter": "python",
   "pygments_lexer": "ipython3",
   "version": "3.9.7"
  },
  "orig_nbformat": 4
 },
 "nbformat": 4,
 "nbformat_minor": 2
}
