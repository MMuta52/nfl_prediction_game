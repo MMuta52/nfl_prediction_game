{
 "cells": [
  {
   "cell_type": "code",
   "execution_count": null,
   "metadata": {},
   "outputs": [],
   "source": [
    "import util\n",
    "\n",
    "%load_ext autoreload\n",
    "%autoreload 2"
   ]
  },
  {
   "cell_type": "code",
   "execution_count": null,
   "metadata": {},
   "outputs": [],
   "source": [
    "years = [i for i in range(2010,2022)]\n",
    "schedule_df = util.load_data(years)"
   ]
  },
  {
   "cell_type": "code",
   "execution_count": null,
   "metadata": {},
   "outputs": [],
   "source": [
    "def get_team1_wp(team1_moneyline, team2_moneyline):\n",
    "  team1_wp = util.odds_to_implied_prob(team1_moneyline)\n",
    "  team2_wp = util.odds_to_implied_prob(team2_moneyline)\n",
    "  return team1_wp / (team1_wp+team2_wp)\n",
    "\n",
    "schedule_df['vegas_team1_wp'] = schedule_df.apply(lambda x: get_team1_wp(x.team1_moneyline, x.team2_moneyline),axis=1)\n"
   ]
  },
  {
   "cell_type": "code",
   "execution_count": null,
   "metadata": {},
   "outputs": [],
   "source": [
    "vegas = schedule_df.copy()\n",
    "vegas['score'] = util.score_df(vegas, 'vegas_team1_wp')\n",
    "print('Vegas scores:', vegas.groupby('season')['score'].sum().tail(3))\n"
   ]
  },
  {
   "cell_type": "code",
   "execution_count": null,
   "metadata": {},
   "outputs": [],
   "source": [
    "from strategy.FiveThirtyEightBaseStrategy import FiveThirtyEightBaseStrategy\n",
    "base_strategy = FiveThirtyEightBaseStrategy()\n",
    "base_df = base_strategy.prepare_data(years)\n",
    "base_pred = base_strategy.simulate(base_df)\n",
    "base_pred['score'] = util.score_df(base_pred, 'base538_pred1')\n",
    "print('Base Elo scores:', base_pred.groupby('season')['score'].sum().tail(3))\n"
   ]
  },
  {
   "cell_type": "code",
   "execution_count": null,
   "metadata": {},
   "outputs": [],
   "source": [
    "from strategy.FiveThirtyEightAdjustedStrategy import FiveThirtyEightAdjustedStrategy\n",
    "adj_strategy = FiveThirtyEightAdjustedStrategy()\n",
    "adj_df = adj_strategy.prepare_data(years)\n",
    "adj_pred = adj_strategy.simulate(adj_df)\n",
    "adj_pred['score'] = util.score_df(adj_pred, 'adj538_pred1')\n",
    "print('Adjusted Elo scores:', adj_pred.groupby('season')['score'].sum().tail(3))\n"
   ]
  },
  {
   "cell_type": "code",
   "execution_count": null,
   "metadata": {},
   "outputs": [],
   "source": []
  }
 ],
 "metadata": {
  "interpreter": {
   "hash": "b0fa6594d8f4cbf19f97940f81e996739fb7646882a419484c72d19e05852a7e"
  },
  "kernelspec": {
   "display_name": "Python 3.9.10 64-bit",
   "language": "python",
   "name": "python3"
  },
  "language_info": {
   "codemirror_mode": {
    "name": "ipython",
    "version": 3
   },
   "file_extension": ".py",
   "mimetype": "text/x-python",
   "name": "python",
   "nbconvert_exporter": "python",
   "pygments_lexer": "ipython3",
   "version": "3.9.7"
  },
  "orig_nbformat": 4
 },
 "nbformat": 4,
 "nbformat_minor": 2
}
